{
 "cells": [
  {
   "cell_type": "code",
   "execution_count": 2,
   "metadata": {
    "ExecuteTime": {
     "end_time": "2019-02-27T02:05:01.032546Z",
     "start_time": "2019-02-27T02:05:00.957768Z"
    }
   },
   "outputs": [],
   "source": [
    "# for automatic reloading\n",
    "%load_ext autoreload\n",
    "%autoreload 2"
   ]
  },
  {
   "cell_type": "code",
   "execution_count": 7,
   "metadata": {
    "ExecuteTime": {
     "end_time": "2019-02-27T02:05:20.330273Z",
     "start_time": "2019-02-27T02:05:20.253667Z"
    }
   },
   "outputs": [],
   "source": [
    "from birdbrain.atlas import atlas\n",
    "from birdbrain.utils import um_to_vox\n",
    "from birdbrain.visualization.plotting_2d import widget_controllers_2d\n",
    "import numpy as np"
   ]
  },
  {
   "cell_type": "markdown",
   "metadata": {},
   "source": [
    "To request the zebra finch password email johan.vanaudekerke@uantwerpen.be"
   ]
  },
  {
   "cell_type": "code",
   "execution_count": 8,
   "metadata": {
    "ExecuteTime": {
     "end_time": "2019-02-27T02:05:21.666804Z",
     "start_time": "2019-02-27T02:05:21.617217Z"
    }
   },
   "outputs": [],
   "source": [
    "password = None"
   ]
  },
  {
   "cell_type": "code",
   "execution_count": 9,
   "metadata": {
    "ExecuteTime": {
     "end_time": "2019-02-27T02:05:23.385187Z",
     "start_time": "2019-02-27T02:05:21.770045Z"
    }
   },
   "outputs": [
    {
     "name": "stdout",
     "output_type": "stream",
     "text": [
      "Data already download\n",
      "Getting voxel data from .img files...\n",
      "Getting location for each nucleus/region from voxel data...\n"
     ]
    },
    {
     "data": {
      "application/vnd.jupyter.widget-view+json": {
       "model_id": "",
       "version_major": 2,
       "version_minor": 0
      },
      "text/plain": [
       "HBox(children=(IntProgress(value=0, max=13), HTML(value='')))"
      ]
     },
     "metadata": {},
     "output_type": "display_data"
    },
    {
     "name": "stdout",
     "output_type": "stream",
     "text": [
      "\r",
      "Atlas created\n"
     ]
    }
   ],
   "source": [
    "dset_dir = '../../data/processed/zebra_finch/'\n",
    "\n",
    "zebra_finch_atlas = atlas(\n",
    "    species = 'zebra_finch',\n",
    "    dset_dir = dset_dir,\n",
    "    um_mult = 100,\n",
    "    smoothing = [], #['Brain', 'Brainregions']\n",
    "    password = password\n",
    ")"
   ]
  },
  {
   "cell_type": "code",
   "execution_count": 22,
   "metadata": {
    "ExecuteTime": {
     "end_time": "2019-02-27T02:07:23.294537Z",
     "start_time": "2019-02-27T02:07:23.229086Z"
    }
   },
   "outputs": [
    {
     "name": "stdout",
     "output_type": "stream",
     "text": [
      "['Nuclei']\n",
      "['DLM' 'E' 'HVC' 'L' 'LMAN' 'MLd' 'Olfactory_bulb' 'Ov' 'RA' 'Rt' 'TeO'\n",
      " 'X' 'nXIIts']\n"
     ]
    }
   ],
   "source": [
    "# the only delineation for zebra finch is nuclei\n",
    "print(np.unique(list(zebra_finch_atlas.brain_labels.type_)))\n",
    "print(np.unique(list(zebra_finch_atlas.brain_labels.index)))"
   ]
  },
  {
   "cell_type": "code",
   "execution_count": 23,
   "metadata": {
    "ExecuteTime": {
     "end_time": "2019-02-27T02:07:29.666534Z",
     "start_time": "2019-02-27T02:07:29.520800Z"
    }
   },
   "outputs": [
    {
     "data": {
      "application/vnd.jupyter.widget-view+json": {
       "model_id": "17fa97418c0941f8938e26acfc2bb781",
       "version_major": 2,
       "version_minor": 0
      },
      "text/plain": [
       "FloatSlider(value=10200.000151991844, description='medial-lateral:', max=10200.000151991844, min=-10200.000151…"
      ]
     },
     "metadata": {},
     "output_type": "display_data"
    },
    {
     "data": {
      "application/vnd.jupyter.widget-view+json": {
       "model_id": "f280a2de751f4d4f85836513a4eb5a89",
       "version_major": 2,
       "version_minor": 0
      },
      "text/plain": [
       "FloatSlider(value=10200.000151991844, description='posterior-anterior:', max=10200.000151991844, min=-10200.00…"
      ]
     },
     "metadata": {},
     "output_type": "display_data"
    },
    {
     "data": {
      "application/vnd.jupyter.widget-view+json": {
       "model_id": "7d62fcbc420b40a38b80b3cd3e4d8c99",
       "version_major": 2,
       "version_minor": 0
      },
      "text/plain": [
       "FloatSlider(value=10200.000151991844, description='ventral-dorsal:', max=10200.000151991844, min=-10200.000151…"
      ]
     },
     "metadata": {},
     "output_type": "display_data"
    },
    {
     "data": {
      "application/vnd.jupyter.widget-view+json": {
       "model_id": "edd86d2bc1c4430ebd1200e155dd2995",
       "version_major": 2,
       "version_minor": 0
      },
      "text/plain": [
       "Dropdown(description='Region:', index=13, options=('L', 'HVC', 'X', 'RA', 'E', 'LMAN', 'MLd', 'DLM', 'Ov', 'Ol…"
      ]
     },
     "metadata": {},
     "output_type": "display_data"
    },
    {
     "data": {
      "application/vnd.jupyter.widget-view+json": {
       "model_id": "a93b575524a9425da1944197805f3fef",
       "version_major": 2,
       "version_minor": 0
      },
      "text/plain": [
       "Button(description='Generate graph', style=ButtonStyle())"
      ]
     },
     "metadata": {},
     "output_type": "display_data"
    }
   ],
   "source": [
    "widget_controllers_2d(zebra_finch_atlas, regions_to_plot=['Nuclei'],brain_masked_image='Atlas');"
   ]
  },
  {
   "cell_type": "code",
   "execution_count": null,
   "metadata": {},
   "outputs": [],
   "source": []
  }
 ],
 "metadata": {
  "kernelspec": {
   "display_name": "Python 3",
   "language": "python",
   "name": "python3"
  },
  "language_info": {
   "codemirror_mode": {
    "name": "ipython",
    "version": 3
   },
   "file_extension": ".py",
   "mimetype": "text/x-python",
   "name": "python",
   "nbconvert_exporter": "python",
   "pygments_lexer": "ipython3",
   "version": "3.6.8"
  }
 },
 "nbformat": 4,
 "nbformat_minor": 2
}
