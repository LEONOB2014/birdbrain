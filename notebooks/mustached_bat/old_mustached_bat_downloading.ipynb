{
 "cells": [
  {
   "cell_type": "code",
   "execution_count": 4,
   "metadata": {
    "ExecuteTime": {
     "end_time": "2019-02-26T17:46:44.815436Z",
     "start_time": "2019-02-26T17:46:44.807103Z"
    }
   },
   "outputs": [],
   "source": [
    "import urllib\n",
    "from tqdm import tqdm\n",
    "from birdbrain.utils import ensure_dir\n",
    "\n",
    "# from pyunpack import Archive\n",
    "import patoolib\n",
    "from glob import glob\n",
    "import numpy as np\n",
    "import shutil\n",
    "import os\n",
    "import subprocess\n",
    "\n",
    "\n",
    "from birdbrain.downloading import *"
   ]
  },
  {
   "cell_type": "code",
   "execution_count": 8,
   "metadata": {
    "ExecuteTime": {
     "end_time": "2019-02-26T17:50:00.763065Z",
     "start_time": "2019-02-26T17:50:00.757062Z"
    }
   },
   "outputs": [],
   "source": [
    "def get_mustache_bat_data():\n",
    "    def xml_to_pandas_brainregions(xml_loc):\n",
    "        \"\"\" gets a pandas dataframe of labels from the brainregions xml\n",
    "        \"\"\"\n",
    "        # load xml\n",
    "        e = xml.etree.ElementTree.parse(xml_loc).getroot()\n",
    "\n",
    "        # get brain_label information\n",
    "        brain_labels = pd.DataFrame(columns = ['label', 'region', 'type_'])\n",
    "        for area in e.getchildren():\n",
    "            (_, abbrev), (_, value), (_, _), (_, name) = area.items()\n",
    "            brain_labels.loc[len(brain_labels)] = [value, abbrev, 'Brainregions']\n",
    "        brain_labels.index = brain_labels.region\n",
    "        return brain_labels\n",
    "\n",
    "    if len(glob(\"../../data/processed/mustached_bat/delineations/*.nii\")) > 1:\n",
    "        print(\"Data already download\")\n",
    "        return xml_to_pandas_brainregions('../../data/processed/mustached_bat/delineations/Mustached_Bat_Delineations.atlas.xml')\n",
    "    \n",
    "    # image locations to save to \n",
    "    dl_output = \"../../data/raw/mustached_bat/\"\n",
    "    img_output = \"../../data/processed/mustached_bat/\"\n",
    "    # make sure directories all exist\n",
    "    ensure_dir(dl_output)\n",
    "    ensure_dir(img_output)\n",
    "    ensure_dir(img_output + \"delineations/\")\n",
    "    data_url = 'http://uahost.uantwerpen.be/bioimaginglab/Bat.zip'\n",
    "    zip_loc = zip_loc = dl_output + \"Bat.zip\"\n",
    "    # download data\n",
    "    tqdm_download(data_url, zip_loc)\n",
    "    # extract the data\n",
    "    patoolib.extract_archive(zip_loc, outdir=dl_output)\n",
    "    xml_loc = '../../data/raw/mustached_bat/Bat/Mustached_Bat_Atlas/Mustached_Bat_Delineations.atlas.xml'\n",
    "    shutil.copy(xml_loc, img_output + \"delineations/\" + os.path.basename(xml_loc))\n",
    "    xml_copy = img_output + \"delineations/\" + os.path.basename(xml_loc)\n",
    "    brain_labels = xml_to_pandas_brainregions(xml_copy)\n",
    "    \n",
    "    # image files to move\n",
    "    imgs = [\n",
    "    '../../data/raw/mustached_bat/Bat/Mustached_Bat_Atlas/ad.nii',\n",
    "    '../../data/raw/mustached_bat/Bat/Mustached_Bat_Atlas/b0.nii',\n",
    "    '../../data/raw/mustached_bat/Bat/Mustached_Bat_Atlas/col_fa.nii',\n",
    "    '../../data/raw/mustached_bat/Bat/Mustached_Bat_Atlas/fa.nii',\n",
    "    '../../data/raw/mustached_bat/Bat/Mustached_Bat_Atlas/md.nii',\n",
    "    '../../data/raw/mustached_bat/Bat/Mustached_Bat_Atlas/rd.nii',\n",
    "    '../../data/raw/mustached_bat/Bat/Mustached_Bat_Atlas/Skull_CT.nii',\n",
    "    '../../data/raw/mustached_bat/Bat/Mustached_Bat_Atlas/T2w_3D_RARE.nii',\n",
    "    '../../data/raw/mustached_bat/Bat/Mustached_Bat_Atlas/tdi_dti_color.nii',\n",
    "    '../../data/raw/mustached_bat/Bat/Mustached_Bat_Atlas/tdi_dti_grey.nii',\n",
    "    ]\n",
    "    # copy all the images\n",
    "    for img in imgs:\n",
    "        shutil.copy(img, img_output + os.path.basename(img))\n",
    "\n",
    "    # copy all the images into delineations locations\n",
    "    img = '../../data/raw/mustached_bat/Bat/Mustached_Bat_Atlas/Mustached_Bat_Delineations.nii'\n",
    "    shutil.copy(img, img_output + \"delineations/\" + os.path.basename(img))\n",
    "    # copy all the images into delineations locations\n",
    "    img = '../../data/raw/mustached_bat/Bat/Mustached_Bat_Atlas/mask.nii'\n",
    "    shutil.copy(img, img_output + \"delineations/\" + 'Brain.nii')\n",
    "    return brain_labels"
   ]
  },
  {
   "cell_type": "code",
   "execution_count": 9,
   "metadata": {
    "ExecuteTime": {
     "end_time": "2019-02-26T17:50:05.898496Z",
     "start_time": "2019-02-26T17:50:05.893916Z"
    }
   },
   "outputs": [],
   "source": [
    "dl_output = \"../../data/raw/mustached_bat/\"\n",
    "img_output = \"../../data/processed/mustached_bat/\""
   ]
  },
  {
   "cell_type": "code",
   "execution_count": 10,
   "metadata": {
    "ExecuteTime": {
     "end_time": "2019-02-26T17:50:06.244703Z",
     "start_time": "2019-02-26T17:50:06.239001Z"
    }
   },
   "outputs": [],
   "source": [
    "# make sure directories all exist\n",
    "ensure_dir(dl_output)\n",
    "ensure_dir(img_output)\n",
    "ensure_dir(img_output + \"delineations/\")"
   ]
  },
  {
   "cell_type": "code",
   "execution_count": 11,
   "metadata": {
    "ExecuteTime": {
     "end_time": "2019-02-26T17:51:35.614358Z",
     "start_time": "2019-02-26T17:51:35.609136Z"
    }
   },
   "outputs": [],
   "source": [
    "data_url = 'http://uahost.uantwerpen.be/bioimaginglab/Bat.zip'"
   ]
  },
  {
   "cell_type": "code",
   "execution_count": 12,
   "metadata": {
    "ExecuteTime": {
     "end_time": "2019-02-26T17:51:36.564867Z",
     "start_time": "2019-02-26T17:51:36.560308Z"
    }
   },
   "outputs": [],
   "source": [
    "zip_loc = zip_loc = dl_output + \"Bat.zip\""
   ]
  },
  {
   "cell_type": "code",
   "execution_count": 14,
   "metadata": {
    "ExecuteTime": {
     "end_time": "2019-02-26T17:52:04.234103Z",
     "start_time": "2019-02-26T17:51:39.810397Z"
    }
   },
   "outputs": [
    {
     "name": "stderr",
     "output_type": "stream",
     "text": [
      "                                                               \r"
     ]
    }
   ],
   "source": [
    "# download data\n",
    "tqdm_download(data_url, zip_loc)"
   ]
  },
  {
   "cell_type": "code",
   "execution_count": 15,
   "metadata": {
    "ExecuteTime": {
     "end_time": "2019-02-26T17:52:22.373128Z",
     "start_time": "2019-02-26T17:52:11.363507Z"
    }
   },
   "outputs": [
    {
     "name": "stdout",
     "output_type": "stream",
     "text": [
      "patool: Extracting ../../data/raw/mustached_bat/Bat.zip ...\n",
      "patool: running /usr/bin/7z x -o../../data/raw/mustached_bat/ -- ../../data/raw/mustached_bat/Bat.zip\n",
      "patool: ... ../../data/raw/mustached_bat/Bat.zip extracted to `../../data/raw/mustached_bat/'.\n"
     ]
    },
    {
     "data": {
      "text/plain": [
       "'../../data/raw/mustached_bat/'"
      ]
     },
     "execution_count": 15,
     "metadata": {},
     "output_type": "execute_result"
    }
   ],
   "source": [
    "# extract the data\n",
    "patoolib.extract_archive(zip_loc, outdir=dl_output)"
   ]
  },
  {
   "cell_type": "code",
   "execution_count": null,
   "metadata": {},
   "outputs": [],
   "source": [
    "# parse xml"
   ]
  },
  {
   "cell_type": "code",
   "execution_count": 36,
   "metadata": {
    "ExecuteTime": {
     "end_time": "2019-02-26T17:59:56.955562Z",
     "start_time": "2019-02-26T17:59:56.951142Z"
    }
   },
   "outputs": [],
   "source": [
    "xml_loc = '../../data/raw/mustached_bat/Bat/Mustached_Bat_Atlas/Mustached_Bat_Delineations.atlas.xml'"
   ]
  },
  {
   "cell_type": "code",
   "execution_count": 59,
   "metadata": {
    "ExecuteTime": {
     "end_time": "2019-02-26T18:39:35.815245Z",
     "start_time": "2019-02-26T18:39:35.803854Z"
    }
   },
   "outputs": [
    {
     "data": {
      "text/plain": [
       "'../../data/processed/mustached_bat/delineations/Mustached_Bat_Delineations.atlas.xml'"
      ]
     },
     "execution_count": 59,
     "metadata": {},
     "output_type": "execute_result"
    }
   ],
   "source": [
    "shutil.copy(xml_loc, img_output + \"delineations/\" + os.path.basename(xml_loc))"
   ]
  },
  {
   "cell_type": "code",
   "execution_count": 60,
   "metadata": {
    "ExecuteTime": {
     "end_time": "2019-02-26T18:39:48.576900Z",
     "start_time": "2019-02-26T18:39:48.571256Z"
    }
   },
   "outputs": [],
   "source": [
    "xml_copy = img_output + \"delineations/\" + os.path.basename(xml_loc)"
   ]
  },
  {
   "cell_type": "code",
   "execution_count": 61,
   "metadata": {
    "ExecuteTime": {
     "end_time": "2019-02-26T18:39:52.674313Z",
     "start_time": "2019-02-26T18:39:52.667058Z"
    }
   },
   "outputs": [],
   "source": [
    "import xml.etree.ElementTree\n",
    "e = xml.etree.ElementTree.parse(xml_copy).getroot()"
   ]
  },
  {
   "cell_type": "code",
   "execution_count": 47,
   "metadata": {
    "ExecuteTime": {
     "end_time": "2019-02-26T18:03:09.899789Z",
     "start_time": "2019-02-26T18:03:09.894717Z"
    }
   },
   "outputs": [],
   "source": []
  },
  {
   "cell_type": "code",
   "execution_count": 49,
   "metadata": {
    "ExecuteTime": {
     "end_time": "2019-02-26T18:26:38.090386Z",
     "start_time": "2019-02-26T18:26:38.064201Z"
    }
   },
   "outputs": [],
   "source": []
  },
  {
   "cell_type": "code",
   "execution_count": 53,
   "metadata": {
    "ExecuteTime": {
     "end_time": "2019-02-26T18:27:41.115647Z",
     "start_time": "2019-02-26T18:27:40.962939Z"
    }
   },
   "outputs": [],
   "source": [
    "# get brain_label information\n",
    "brain_labels = pd.DataFrame(columns = ['label', 'region', 'type_'])\n",
    "for area in e.getchildren():\n",
    "    (_, abbrev), (_, value), (_, _), (_, name) = area.items()\n",
    "    brain_labels.loc[len(brain_labels)] = [value, abbrev, 'Brainregions']\n",
    "brain_labels.index = brain_labels.region"
   ]
  },
  {
   "cell_type": "code",
   "execution_count": 55,
   "metadata": {
    "ExecuteTime": {
     "end_time": "2019-02-26T18:35:13.540290Z",
     "start_time": "2019-02-26T18:35:13.533782Z"
    }
   },
   "outputs": [],
   "source": [
    "imgs = [\n",
    "    '../../data/raw/mustached_bat/Bat/Mustached_Bat_Atlas/ad.nii',\n",
    "    '../../data/raw/mustached_bat/Bat/Mustached_Bat_Atlas/b0.nii',\n",
    "    '../../data/raw/mustached_bat/Bat/Mustached_Bat_Atlas/col_fa.nii',\n",
    "    '../../data/raw/mustached_bat/Bat/Mustached_Bat_Atlas/fa.nii',\n",
    "    '../../data/raw/mustached_bat/Bat/Mustached_Bat_Atlas/md.nii',\n",
    "    '../../data/raw/mustached_bat/Bat/Mustached_Bat_Atlas/rd.nii',\n",
    "    '../../data/raw/mustached_bat/Bat/Mustached_Bat_Atlas/Skull_CT.nii',\n",
    "    '../../data/raw/mustached_bat/Bat/Mustached_Bat_Atlas/T2w_3D_RARE.nii',\n",
    "    '../../data/raw/mustached_bat/Bat/Mustached_Bat_Atlas/tdi_dti_color.nii',\n",
    "    '../../data/raw/mustached_bat/Bat/Mustached_Bat_Atlas/tdi_dti_grey.nii',\n",
    "]"
   ]
  },
  {
   "cell_type": "code",
   "execution_count": 56,
   "metadata": {
    "ExecuteTime": {
     "end_time": "2019-02-26T18:36:44.339357Z",
     "start_time": "2019-02-26T18:36:41.749308Z"
    }
   },
   "outputs": [],
   "source": [
    "# copy all the images\n",
    "for img in imgs:\n",
    "    shutil.copy(img, img_output + os.path.basename(img))"
   ]
  },
  {
   "cell_type": "code",
   "execution_count": 57,
   "metadata": {
    "ExecuteTime": {
     "end_time": "2019-02-26T18:37:51.574987Z",
     "start_time": "2019-02-26T18:37:51.569842Z"
    }
   },
   "outputs": [],
   "source": [
    "# copy all the images into delineations locations\n",
    "img = '../../data/raw/mustached_bat/Bat/Mustached_Bat_Atlas/Mustached_Bat_Delineations.nii'\n",
    "shutil.copy(img, img_output + \"delineations/\" + os.path.basename(img))\n",
    "# copy all the images into delineations locations\n",
    "img = '../../data/raw/mustached_bat/Bat/Mustached_Bat_Atlas/mask.nii'\n",
    "shutil.copy(img, img_output + \"delineations/\" + 'Brain.nii')"
   ]
  },
  {
   "cell_type": "code",
   "execution_count": 58,
   "metadata": {
    "ExecuteTime": {
     "end_time": "2019-02-26T18:37:57.998142Z",
     "start_time": "2019-02-26T18:37:57.863050Z"
    }
   },
   "outputs": [],
   "source": []
  },
  {
   "cell_type": "code",
   "execution_count": null,
   "metadata": {},
   "outputs": [],
   "source": []
  },
  {
   "cell_type": "code",
   "execution_count": 42,
   "metadata": {
    "ExecuteTime": {
     "end_time": "2019-02-26T17:59:58.328952Z",
     "start_time": "2019-02-26T17:59:58.322466Z"
    }
   },
   "outputs": [
    {
     "data": {
      "text/plain": [
       "'Area'"
      ]
     },
     "execution_count": 42,
     "metadata": {},
     "output_type": "execute_result"
    }
   ],
   "source": [
    "area.tag"
   ]
  },
  {
   "cell_type": "code",
   "execution_count": 44,
   "metadata": {
    "ExecuteTime": {
     "end_time": "2019-02-26T18:01:02.741786Z",
     "start_time": "2019-02-26T18:01:02.735424Z"
    }
   },
   "outputs": [],
   "source": []
  },
  {
   "cell_type": "code",
   "execution_count": 45,
   "metadata": {
    "ExecuteTime": {
     "end_time": "2019-02-26T18:01:10.870359Z",
     "start_time": "2019-02-26T18:01:10.864064Z"
    }
   },
   "outputs": [
    {
     "name": "stdout",
     "output_type": "stream",
     "text": [
      "Exterior 1 Exterior\n"
     ]
    }
   ],
   "source": [
    "print(abbrev, value, name)"
   ]
  },
  {
   "cell_type": "code",
   "execution_count": null,
   "metadata": {},
   "outputs": [],
   "source": []
  }
 ],
 "metadata": {
  "kernelspec": {
   "display_name": "Python 3",
   "language": "python",
   "name": "python3"
  },
  "language_info": {
   "codemirror_mode": {
    "name": "ipython",
    "version": 3
   },
   "file_extension": ".py",
   "mimetype": "text/x-python",
   "name": "python",
   "nbconvert_exporter": "python",
   "pygments_lexer": "ipython3",
   "version": "3.6.8"
  }
 },
 "nbformat": 4,
 "nbformat_minor": 2
}
