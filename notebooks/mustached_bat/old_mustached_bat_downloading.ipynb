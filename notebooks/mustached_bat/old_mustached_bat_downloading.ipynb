{
 "cells": [
  {
   "cell_type": "code",
   "execution_count": 1,
   "metadata": {
    "ExecuteTime": {
     "end_time": "2019-02-23T22:45:19.918099Z",
     "start_time": "2019-02-23T22:45:17.503390Z"
    }
   },
   "outputs": [
    {
     "name": "stderr",
     "output_type": "stream",
     "text": [
      "/mnt/cube/tsainbur/conda_envs/tpy3/lib/python3.6/site-packages/tqdm/autonotebook/__init__.py:14: TqdmExperimentalWarning: Using `tqdm.autonotebook.tqdm` in notebook mode. Use `tqdm.tqdm` instead to force console mode (e.g. in jupyter console)\n",
      "  \" (e.g. in jupyter console)\", TqdmExperimentalWarning)\n"
     ]
    }
   ],
   "source": [
    "import urllib\n",
    "from tqdm import tqdm\n",
    "from birdbrain.utils import ensure_dir\n",
    "\n",
    "# from pyunpack import Archive\n",
    "import patoolib\n",
    "from glob import glob\n",
    "import numpy as np\n",
    "import shutil\n",
    "import os\n",
    "import subprocess\n",
    "\n",
    "\n",
    "from birdbrain.downloading import *"
   ]
  },
  {
   "cell_type": "code",
   "execution_count": 3,
   "metadata": {
    "ExecuteTime": {
     "end_time": "2019-02-23T22:45:34.479288Z",
     "start_time": "2019-02-23T22:45:34.472300Z"
    }
   },
   "outputs": [],
   "source": [
    "def get_mustache_bat_data():\n",
    "    if len(glob(\"../../data/processed/mustached_bat/delineations/*.img\")) > 1:\n",
    "        print(\"Data already download\")\n",
    "        return"
   ]
  },
  {
   "cell_type": "code",
   "execution_count": null,
   "metadata": {},
   "outputs": [],
   "source": []
  }
 ],
 "metadata": {
  "kernelspec": {
   "display_name": "Python 3",
   "language": "python",
   "name": "python3"
  },
  "language_info": {
   "codemirror_mode": {
    "name": "ipython",
    "version": 3
   },
   "file_extension": ".py",
   "mimetype": "text/x-python",
   "name": "python",
   "nbconvert_exporter": "python",
   "pygments_lexer": "ipython3",
   "version": "3.6.8"
  }
 },
 "nbformat": 4,
 "nbformat_minor": 2
}
