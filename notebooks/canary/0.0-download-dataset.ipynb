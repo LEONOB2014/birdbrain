{
 "cells": [
  {
   "cell_type": "markdown",
   "metadata": {},
   "source": [
    "- download specifically the files that we're interested in into the raw folder\n",
    "- unzip them and place them into the processsed folder for canary e.g. in delineations folder\n",
    "- create a CSV with delineation information to be loaded as pandas\n",
    "http://extranet.orn.mpg.de/documents/vellema/canary_atlas.html\n",
    "- atlas class needs a new dataset input - where data can be loaded differently based on dataset (e.g. canary loads up the pre-build brain labels data file, whereas starling loads from txt) "
   ]
  },
  {
   "cell_type": "code",
   "execution_count": 10,
   "metadata": {
    "ExecuteTime": {
     "end_time": "2019-02-22T17:48:25.890110Z",
     "start_time": "2019-02-22T17:48:25.874124Z"
    }
   },
   "outputs": [],
   "source": [
    "import urllib\n",
    "from os import devnull\n",
    "#from tqdm.autonotebook import tqdm\n",
    "from tqdm import tqdm\n",
    "\n",
    "class TqdmUpTo(tqdm):\n",
    "    \"\"\"Provides `update_to(n)` which uses `tqdm.update(delta_n)`.\"\"\"\n",
    "    def update_to(self, b=1, bsize=1, tsize=None):\n",
    "        \"\"\"\n",
    "        b  : int, optional\n",
    "            Number of blocks transferred so far [default: 1].\n",
    "        bsize  : int, optional\n",
    "            Size of each block (in tqdm units) [default: 1].\n",
    "        tsize  : int, optional\n",
    "            Total size (in tqdm units). If [default: None] remains unchanged.\n",
    "        \"\"\"\n",
    "        if tsize is not None:\n",
    "            self.total = tsize\n",
    "        self.update(b * bsize - self.n)  # will also set self.n = b * bsize\n",
    "        \n",
    "def tqdm_download(url, save_loc):\n",
    "    with TqdmUpTo(unit='B', unit_scale=True, unit_divisor=1024, miniters=1,\n",
    "              desc=url.split('/')[-1], leave=False) as t:  # all optional kwargs\n",
    "        urllib.request.urlretrieve(url, filename=save_loc, reporthook=t.update_to,\n",
    "                           data=None)"
   ]
  },
  {
   "cell_type": "code",
   "execution_count": 2,
   "metadata": {
    "ExecuteTime": {
     "end_time": "2019-02-22T17:47:46.025090Z",
     "start_time": "2019-02-22T17:47:43.019109Z"
    }
   },
   "outputs": [
    {
     "name": "stderr",
     "output_type": "stream",
     "text": [
      "/mnt/cube/tsainbur/conda_envs/tpy3/lib/python3.6/site-packages/tqdm/autonotebook/__init__.py:14: TqdmExperimentalWarning: Using `tqdm.autonotebook.tqdm` in notebook mode. Use `tqdm.tqdm` instead to force console mode (e.g. in jupyter console)\n",
      "  \" (e.g. in jupyter console)\", TqdmExperimentalWarning)\n"
     ]
    }
   ],
   "source": [
    "from birdbrain.utils import ensure_dir\n",
    "from pyunpack import Archive"
   ]
  },
  {
   "cell_type": "code",
   "execution_count": 3,
   "metadata": {
    "ExecuteTime": {
     "end_time": "2019-02-22T17:47:46.031421Z",
     "start_time": "2019-02-22T17:47:46.027508Z"
    }
   },
   "outputs": [],
   "source": [
    "def get_canary_data():\n",
    "    # if files already exist\n",
    "    if len(glob('../../data/processed/canary/delineations/*.img')) > 1:\n",
    "        print('Data already download')\n",
    "        return\n",
    "    print('Downloading data')\n",
    "    \n",
    "    # which images to get and where to save them\n",
    "    dl_output = '../../data/raw/canary/'\n",
    "    img_output = '../../data/processed/canary/'\n",
    "    images = ['http://extranet.orn.mpg.de/documents/vellema/downloads/T2_Rare_3D.rar',\n",
    "             'http://extranet.orn.mpg.de/documents/vellema/downloads/T2_Flash_3D_HR.rar'\n",
    "             ]\n",
    "    delineations = [\n",
    "        'http://extranet.orn.mpg.de/documents/vellema/downloads/skull.rar',\n",
    "        'http://extranet.orn.mpg.de/documents/vellema/downloads/brain.rar',\n",
    "        'http://extranet.orn.mpg.de/documents/vellema/downloads/subdivisions.rar',\n",
    "        'http://extranet.orn.mpg.de/documents/vellema/downloads/nuclei.rar',\n",
    "        'http://extranet.orn.mpg.de/documents/vellema/downloads/tracts.rar',\n",
    "        'http://extranet.orn.mpg.de/documents/vellema/downloads/combined_set.rar'\n",
    "    ]\n",
    "    # make sure directories all exist\n",
    "    ensure_dir(dl_output)\n",
    "    ensure_dir(img_output)\n",
    "    ensure_dir(img_output+'delineations/')\n",
    "    \n",
    "    # download data\n",
    "    delination_zip = []\n",
    "    # download each delineation file\n",
    "    for delineation_loc in delineations:\n",
    "        output_loc = dl_output + delineation_loc.split('/')[-1]\n",
    "        tqdm_download(delineation_loc, output_loc)\n",
    "        delination_zip.append(output_loc)\n",
    "    img_zip = []\n",
    "    # download each image file\n",
    "    for image_loc in images:\n",
    "        output_loc = dl_output + image_loc.split('/')[-1]\n",
    "        tqdm_download(image_loc, output_loc)\n",
    "        img_zip.append(output_loc)\n",
    "    # unzip delineations\n",
    "    for dz in tqdm(delination_zip):\n",
    "        Archive(dz).extractall(img_output+'delineations/')\n",
    "    # unzip images\n",
    "    for iz in tqdm(img_zip):\n",
    "        Archive(iz).extractall(img_output)\n"
   ]
  },
  {
   "cell_type": "code",
   "execution_count": 41,
   "metadata": {
    "ExecuteTime": {
     "end_time": "2019-02-22T18:31:50.349013Z",
     "start_time": "2019-02-22T18:31:50.344095Z"
    }
   },
   "outputs": [],
   "source": [
    "from glob import glob"
   ]
  },
  {
   "cell_type": "code",
   "execution_count": 42,
   "metadata": {
    "ExecuteTime": {
     "end_time": "2019-02-22T18:31:56.496870Z",
     "start_time": "2019-02-22T18:31:56.487073Z"
    }
   },
   "outputs": [
    {
     "data": {
      "text/plain": [
       "['../../data/processed/canary/delineations/nuclei.img',\n",
       " '../../data/processed/canary/delineations/skull.img',\n",
       " '../../data/processed/canary/delineations/tracts.img',\n",
       " '../../data/processed/canary/delineations/brain.img',\n",
       " '../../data/processed/canary/delineations/combined_set.img',\n",
       " '../../data/processed/canary/delineations/subdivisions.img']"
      ]
     },
     "execution_count": 42,
     "metadata": {},
     "output_type": "execute_result"
    }
   ],
   "source": [
    "glob('../../data/processed/canary/delineations/*.img')"
   ]
  },
  {
   "cell_type": "code",
   "execution_count": 36,
   "metadata": {
    "ExecuteTime": {
     "end_time": "2019-02-22T18:27:51.949709Z",
     "start_time": "2019-02-22T18:27:51.941792Z"
    }
   },
   "outputs": [],
   "source": [
    "dl_output = '../../data/raw/canary/'\n",
    "img_output = '../../data/processed/canary/'\n",
    "images = ['http://extranet.orn.mpg.de/documents/vellema/downloads/T2_Rare_3D.rar',\n",
    "         'http://extranet.orn.mpg.de/documents/vellema/downloads/T2_Flash_3D_HR.rar'\n",
    "         ]\n",
    "delineations = [\n",
    "    'http://extranet.orn.mpg.de/documents/vellema/downloads/skull.rar',\n",
    "    'http://extranet.orn.mpg.de/documents/vellema/downloads/brain.rar',\n",
    "    'http://extranet.orn.mpg.de/documents/vellema/downloads/subdivisions.rar',\n",
    "    'http://extranet.orn.mpg.de/documents/vellema/downloads/nuclei.rar',\n",
    "    'http://extranet.orn.mpg.de/documents/vellema/downloads/tracts.rar',\n",
    "    'http://extranet.orn.mpg.de/documents/vellema/downloads/combined_set.rar'\n",
    "]"
   ]
  },
  {
   "cell_type": "code",
   "execution_count": 23,
   "metadata": {
    "ExecuteTime": {
     "end_time": "2019-02-22T17:55:46.675000Z",
     "start_time": "2019-02-22T17:55:46.667323Z"
    }
   },
   "outputs": [],
   "source": [
    "ensure_dir(dl_output)\n",
    "ensure_dir(img_output)\n",
    "ensure_dir(img_output+'delineations/')"
   ]
  },
  {
   "cell_type": "code",
   "execution_count": 12,
   "metadata": {
    "ExecuteTime": {
     "end_time": "2019-02-22T17:51:47.510869Z",
     "start_time": "2019-02-22T17:51:47.504463Z"
    }
   },
   "outputs": [],
   "source": [
    "delination_zip = []\n",
    "img_zip = []"
   ]
  },
  {
   "cell_type": "code",
   "execution_count": 13,
   "metadata": {
    "ExecuteTime": {
     "end_time": "2019-02-22T17:51:55.752240Z",
     "start_time": "2019-02-22T17:51:47.920777Z"
    }
   },
   "outputs": [
    {
     "name": "stderr",
     "output_type": "stream",
     "text": [
      "                                                                     \r"
     ]
    }
   ],
   "source": [
    "# download each delineation file\n",
    "for delineation_loc in delineations:\n",
    "    output_loc = dl_output + delineation_loc.split('/')[-1]\n",
    "    tqdm_download(delineation_loc, output_loc)\n",
    "    delination_zip.append(output_loc)"
   ]
  },
  {
   "cell_type": "code",
   "execution_count": 37,
   "metadata": {
    "ExecuteTime": {
     "end_time": "2019-02-22T18:28:17.795561Z",
     "start_time": "2019-02-22T18:27:53.944069Z"
    }
   },
   "outputs": [
    {
     "name": "stderr",
     "output_type": "stream",
     "text": [
      "                                                                         \r"
     ]
    }
   ],
   "source": [
    "# download each image file\n",
    "for image_loc in images:\n",
    "    output_loc = dl_output + image_loc.split('/')[-1]\n",
    "    tqdm_download(image_loc, output_loc)\n",
    "    img_zip.append(output_loc)"
   ]
  },
  {
   "cell_type": "code",
   "execution_count": 29,
   "metadata": {
    "ExecuteTime": {
     "end_time": "2019-02-22T17:58:46.732950Z",
     "start_time": "2019-02-22T17:58:40.820501Z"
    }
   },
   "outputs": [
    {
     "name": "stderr",
     "output_type": "stream",
     "text": [
      "100%|██████████| 6/6 [00:05<00:00,  1.01s/it]\n"
     ]
    }
   ],
   "source": [
    "# unzip delineations\n",
    "for dz in tqdm(delination_zip):\n",
    "    Archive(dz).extractall(img_output+'delineations/')"
   ]
  },
  {
   "cell_type": "code",
   "execution_count": 38,
   "metadata": {
    "ExecuteTime": {
     "end_time": "2019-02-22T18:28:51.828882Z",
     "start_time": "2019-02-22T18:28:36.304439Z"
    }
   },
   "outputs": [
    {
     "name": "stderr",
     "output_type": "stream",
     "text": [
      "100%|██████████| 3/3 [00:15<00:00,  4.94s/it]\n"
     ]
    }
   ],
   "source": [
    "# unzip images\n",
    "for iz in tqdm(img_zip):\n",
    "    Archive(iz).extractall(img_output)"
   ]
  },
  {
   "cell_type": "code",
   "execution_count": 27,
   "metadata": {
    "ExecuteTime": {
     "end_time": "2019-02-22T17:57:04.054839Z",
     "start_time": "2019-02-22T17:57:03.094436Z"
    }
   },
   "outputs": [],
   "source": []
  },
  {
   "cell_type": "code",
   "execution_count": null,
   "metadata": {},
   "outputs": [],
   "source": [
    "'../../data/processed/canary/'"
   ]
  }
 ],
 "metadata": {
  "kernelspec": {
   "display_name": "Python 3",
   "language": "python",
   "name": "python3"
  },
  "language_info": {
   "codemirror_mode": {
    "name": "ipython",
    "version": 3
   },
   "file_extension": ".py",
   "mimetype": "text/x-python",
   "name": "python",
   "nbconvert_exporter": "python",
   "pygments_lexer": "ipython3",
   "version": "3.6.8"
  }
 },
 "nbformat": 4,
 "nbformat_minor": 2
}
