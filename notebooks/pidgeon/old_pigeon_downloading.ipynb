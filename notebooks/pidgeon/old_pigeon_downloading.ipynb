{
 "cells": [
  {
   "cell_type": "code",
   "execution_count": 133,
   "metadata": {
    "ExecuteTime": {
     "end_time": "2019-02-23T21:45:18.299845Z",
     "start_time": "2019-02-23T21:45:18.292032Z"
    }
   },
   "outputs": [],
   "source": [
    "import urllib\n",
    "from tqdm import tqdm\n",
    "from birdbrain.utils import ensure_dir\n",
    "\n",
    "# from pyunpack import Archive\n",
    "import patoolib\n",
    "from glob import glob\n",
    "import numpy as np\n",
    "import shutil\n",
    "import os\n",
    "import subprocess\n",
    "\n",
    "\n",
    "from birdbrain.downloading import *"
   ]
  },
  {
   "cell_type": "code",
   "execution_count": 135,
   "metadata": {
    "ExecuteTime": {
     "end_time": "2019-02-23T21:45:51.121005Z",
     "start_time": "2019-02-23T21:45:51.091932Z"
    }
   },
   "outputs": [],
   "source": [
    "def get_pigeon_data():\n",
    "    if len(glob(\"../../data/processed/pigeon/delineations/*.img\")) > 1:\n",
    "        print(\"Data already download\")\n",
    "        return\n",
    "    print(\"Downloading data\")\n",
    "    dl_output = \"../../data/raw/pigeon/\"  # data download\n",
    "    img_output = \"../../data/processed/pigeon/\"  # processed save spot\n",
    "    data_url = 'http://uahost.uantwerpen.be/bioimaginglab/pigeon.zip'\n",
    "\n",
    "    # ensure directories\n",
    "    ensure_dir(dl_output)\n",
    "    ensure_dir(img_output)\n",
    "    ensure_dir(img_output + \"delineations/\")\n",
    "    zip_loc = dl_output + \"pigeon.zip\"\n",
    "\n",
    "    # download data\n",
    "    tqdm_download(data_url, zip_loc)\n",
    "\n",
    "    # extract the data\n",
    "    patoolib.extract_archive(zip_loc, outdir=dl_output)\n",
    "\n",
    "    # There are several img files that dont correspond directly to the data description table at \n",
    "    #   https://www.uantwerpen.be/en/research-groups/bio-imaging-lab/research/mri-atlases/pigeon-brain-atlas/manual/\n",
    "    #   I made a quick try at matching them up but this needs fixed\n",
    "    systems_delineations = [\n",
    "        ['Auditory1', [\n",
    "            '../../data/raw/pigeon/Full_package/Auditory/auditory1.img'\n",
    "        ]],\n",
    "        ['Auditory2', [\n",
    "            '../../data/raw/pigeon/Full_package/Auditory/auditory2.img'\n",
    "                      ]],\n",
    "        ['Olfactory', [\n",
    "            '../../data/raw/pigeon/Full_package/Olfactory/Olfactory.img'\n",
    "        ]],\n",
    "        ['Visual_thalamofugal', [\n",
    "            '../../data/raw/pigeon/Full_package/Visual/Thalamofugal/GLd-and-rotundus.img',\n",
    "        ]],\n",
    "        ['Somatosensory_wulst', [\n",
    "            '../../data/raw/pigeon/Full_package/Somatosensory/Wulst_HA_HI_HD-frontal-from-A13.img'\n",
    "        ]],\n",
    "        ['Somatosensory_spinal_system_and_body_representation', [\n",
    "            '../../data/raw/pigeon/Full_package/Somatosensory/Spinal system and body representation/GC_DLP_DIVA.img'\n",
    "        ]],\n",
    "        ['Somatosensory_trigeminal', [\n",
    "            '../../data/raw/pigeon/Full_package/Somatosensory/Trigeminal/PrV-and-Basalis.img'\n",
    "        ]],\n",
    "        ['Hippocampus', [\n",
    "            '../../data/raw/pigeon/Full_package/Hippocampus/hippocampus.img',\n",
    "        ]],\n",
    "        ['Visual_isthmic', [\n",
    "            '../../data/raw/pigeon/Full_package/Visual/Isthmic nuclei/Isthmo-opticus.img',\n",
    "            '../../data/raw/pigeon/Full_package/Visual/Isthmic nuclei/SLu-Ipc-Imc-right.img',\n",
    "            '../../data/raw/pigeon/Full_package/Visual/Isthmic nuclei/SLu-Ipc-Imc-left.img'\n",
    "        ]],\n",
    "        ['Arcopallium', [\n",
    "            '../../data/raw/pigeon/Full_package/Descending systems/Arcopallium/arcopallium.img'\n",
    "        ]],\n",
    "        ['Visual_wulst', [\n",
    "            '../../data/raw/pigeon/Full_package/Visual/Thalamofugal/visual-Wulst_HA_HI_HD-until-A13.img',\n",
    "        ]],\n",
    "\n",
    "        ['Arcopallium',[\n",
    "            '../../data/raw/pigeon/Full_package/Descending systems/Arcopallium/arcopallium.img'\n",
    "        ]],\n",
    "\n",
    "        ['Visual_aos', [\n",
    "            '../../data/raw/pigeon/Full_package/Visual/Accessory Optic System/n-pontis-medialis.img',\n",
    "            '../../data/raw/pigeon/Full_package/Visual/Accessory Optic System/nBOR-Lentiformis-mesencephali.img'\n",
    "        ]],\n",
    "        ['Brain', [\n",
    "            '../../data/raw/pigeon/Full_package/Brainsurface/brainsurface_left.img',\n",
    "            '../../data/raw/pigeon/Full_package/Brainsurface/brainsurface_right.img'\n",
    "        ]]\n",
    "    ]\n",
    "\n",
    "    # brainsurface will need to be merged...\n",
    "    #delineation_files = ['Auditory', 'Descending systems', 'Hippocampus', 'Olfactory', 'Somatosensory', 'Brainsurface']\n",
    "    img_files = ['CT', 'T2', 'T2star']\n",
    "\n",
    "    # for some reason pigeon brain is \n",
    "    brain_file = ['Brainsurface']\n",
    "\n",
    "    # get all hdr and img delination files\n",
    "    all_delineation_files = np.concatenate([i[1] + [j[:-4]+'.hdr' for j in i[1]] for i in systems_delineations])\n",
    "\n",
    "    # get the image files\n",
    "    img_files = [\n",
    "        '../../data/raw/pigeon/Full_package/T2/T2.hdr',\n",
    "        '../../data/raw/pigeon/Full_package/T2/T2.img',\n",
    "        '../../data/raw/pigeon/Full_package/T2star/T2star.hdr',\n",
    "        '../../data/raw/pigeon/Full_package/T2star/T2star.img',\n",
    "        '../../data/raw/pigeon/Full_package/CT/CT.hdr',\n",
    "        '../../data/raw/pigeon/Full_package/CT/CT.img',\n",
    "    ]\n",
    "\n",
    "    for img_file in img_files:\n",
    "            shutil.move(img_file, img_output + os.path.basename(img_file))\n",
    "\n",
    "\n",
    "    for del_file in all_delineation_files:\n",
    "            shutil.copy(del_file, img_output+'delineations/' + os.path.basename(del_file))\n",
    "    \n",
    "    return systems_delineations"
   ]
  },
  {
   "cell_type": "code",
   "execution_count": null,
   "metadata": {},
   "outputs": [],
   "source": []
  },
  {
   "cell_type": "code",
   "execution_count": null,
   "metadata": {},
   "outputs": [],
   "source": []
  },
  {
   "cell_type": "code",
   "execution_count": null,
   "metadata": {},
   "outputs": [],
   "source": []
  },
  {
   "cell_type": "code",
   "execution_count": null,
   "metadata": {},
   "outputs": [],
   "source": []
  },
  {
   "cell_type": "code",
   "execution_count": 5,
   "metadata": {
    "ExecuteTime": {
     "end_time": "2019-02-22T21:21:45.211944Z",
     "start_time": "2019-02-22T21:21:45.205090Z"
    }
   },
   "outputs": [],
   "source": [
    "dl_output = \"../../data/raw/pigeon/\"  # data download\n",
    "img_output = \"../../data/processed/pigeon/\"  # processed save spot\n",
    "data_url = 'http://uahost.uantwerpen.be/bioimaginglab/pigeon.zip'"
   ]
  },
  {
   "cell_type": "code",
   "execution_count": 6,
   "metadata": {
    "ExecuteTime": {
     "end_time": "2019-02-22T21:21:45.809293Z",
     "start_time": "2019-02-22T21:21:45.800681Z"
    }
   },
   "outputs": [],
   "source": [
    "# ensure directories\n",
    "ensure_dir(dl_output)\n",
    "ensure_dir(img_output)\n",
    "ensure_dir(img_output + \"delineations/\")\n",
    "zip_loc = dl_output + \"pigeon.zip\""
   ]
  },
  {
   "cell_type": "code",
   "execution_count": 83,
   "metadata": {
    "ExecuteTime": {
     "end_time": "2019-02-23T21:33:21.366927Z",
     "start_time": "2019-02-23T21:33:12.573450Z"
    }
   },
   "outputs": [
    {
     "name": "stderr",
     "output_type": "stream",
     "text": [
      "                                                                  "
     ]
    },
    {
     "name": "stdout",
     "output_type": "stream",
     "text": [
      "patool: Extracting ../../data/raw/pigeon/pigeon.zip ...\n",
      "patool: running /usr/bin/7z x -o../../data/raw/pigeon/ -- ../../data/raw/pigeon/pigeon.zip\n"
     ]
    },
    {
     "name": "stderr",
     "output_type": "stream",
     "text": [
      "\r"
     ]
    },
    {
     "ename": "PatoolError",
     "evalue": "Command `['/usr/bin/7z', 'x', '-o../../data/raw/pigeon/', '--', '../../data/raw/pigeon/pigeon.zip']' returned non-zero exit status 2",
     "output_type": "error",
     "traceback": [
      "\u001b[0;31m---------------------------------------------------------------------------\u001b[0m",
      "\u001b[0;31mPatoolError\u001b[0m                               Traceback (most recent call last)",
      "\u001b[0;32m<ipython-input-83-60289104f668>\u001b[0m in \u001b[0;36m<module>\u001b[0;34m\u001b[0m\n\u001b[1;32m      3\u001b[0m \u001b[0;34m\u001b[0m\u001b[0m\n\u001b[1;32m      4\u001b[0m \u001b[0;31m# extract the data\u001b[0m\u001b[0;34m\u001b[0m\u001b[0;34m\u001b[0m\u001b[0;34m\u001b[0m\u001b[0m\n\u001b[0;32m----> 5\u001b[0;31m \u001b[0mpatoolib\u001b[0m\u001b[0;34m.\u001b[0m\u001b[0mextract_archive\u001b[0m\u001b[0;34m(\u001b[0m\u001b[0mzip_loc\u001b[0m\u001b[0;34m,\u001b[0m \u001b[0moutdir\u001b[0m\u001b[0;34m=\u001b[0m\u001b[0mdl_output\u001b[0m\u001b[0;34m)\u001b[0m\u001b[0;34m\u001b[0m\u001b[0;34m\u001b[0m\u001b[0m\n\u001b[0m",
      "\u001b[0;32m/mnt/cube/tsainbur/conda_envs/tpy3/lib/python3.6/site-packages/patoolib/__init__.py\u001b[0m in \u001b[0;36mextract_archive\u001b[0;34m(archive, verbosity, outdir, program, interactive)\u001b[0m\n\u001b[1;32m    682\u001b[0m     \u001b[0;32mif\u001b[0m \u001b[0mverbosity\u001b[0m \u001b[0;34m>=\u001b[0m \u001b[0;36m0\u001b[0m\u001b[0;34m:\u001b[0m\u001b[0;34m\u001b[0m\u001b[0;34m\u001b[0m\u001b[0m\n\u001b[1;32m    683\u001b[0m         \u001b[0mutil\u001b[0m\u001b[0;34m.\u001b[0m\u001b[0mlog_info\u001b[0m\u001b[0;34m(\u001b[0m\u001b[0;34m\"Extracting %s ...\"\u001b[0m \u001b[0;34m%\u001b[0m \u001b[0marchive\u001b[0m\u001b[0;34m)\u001b[0m\u001b[0;34m\u001b[0m\u001b[0;34m\u001b[0m\u001b[0m\n\u001b[0;32m--> 684\u001b[0;31m     \u001b[0;32mreturn\u001b[0m \u001b[0m_extract_archive\u001b[0m\u001b[0;34m(\u001b[0m\u001b[0marchive\u001b[0m\u001b[0;34m,\u001b[0m \u001b[0mverbosity\u001b[0m\u001b[0;34m=\u001b[0m\u001b[0mverbosity\u001b[0m\u001b[0;34m,\u001b[0m \u001b[0minteractive\u001b[0m\u001b[0;34m=\u001b[0m\u001b[0minteractive\u001b[0m\u001b[0;34m,\u001b[0m \u001b[0moutdir\u001b[0m\u001b[0;34m=\u001b[0m\u001b[0moutdir\u001b[0m\u001b[0;34m,\u001b[0m \u001b[0mprogram\u001b[0m\u001b[0;34m=\u001b[0m\u001b[0mprogram\u001b[0m\u001b[0;34m)\u001b[0m\u001b[0;34m\u001b[0m\u001b[0;34m\u001b[0m\u001b[0m\n\u001b[0m\u001b[1;32m    685\u001b[0m \u001b[0;34m\u001b[0m\u001b[0m\n\u001b[1;32m    686\u001b[0m \u001b[0;34m\u001b[0m\u001b[0m\n",
      "\u001b[0;32m/mnt/cube/tsainbur/conda_envs/tpy3/lib/python3.6/site-packages/patoolib/__init__.py\u001b[0m in \u001b[0;36m_extract_archive\u001b[0;34m(archive, verbosity, interactive, outdir, program, format, compression)\u001b[0m\n\u001b[1;32m    482\u001b[0m             \u001b[0;31m# already handled the command (eg. when it's a builtin Python\u001b[0m\u001b[0;34m\u001b[0m\u001b[0;34m\u001b[0m\u001b[0;34m\u001b[0m\u001b[0m\n\u001b[1;32m    483\u001b[0m             \u001b[0;31m# function)\u001b[0m\u001b[0;34m\u001b[0m\u001b[0;34m\u001b[0m\u001b[0;34m\u001b[0m\u001b[0m\n\u001b[0;32m--> 484\u001b[0;31m             \u001b[0mrun_archive_cmdlist\u001b[0m\u001b[0;34m(\u001b[0m\u001b[0mcmdlist\u001b[0m\u001b[0;34m,\u001b[0m \u001b[0mverbosity\u001b[0m\u001b[0;34m=\u001b[0m\u001b[0mverbosity\u001b[0m\u001b[0;34m)\u001b[0m\u001b[0;34m\u001b[0m\u001b[0;34m\u001b[0m\u001b[0m\n\u001b[0m\u001b[1;32m    485\u001b[0m         \u001b[0;32mif\u001b[0m \u001b[0mdo_cleanup_outdir\u001b[0m\u001b[0;34m:\u001b[0m\u001b[0;34m\u001b[0m\u001b[0;34m\u001b[0m\u001b[0m\n\u001b[1;32m    486\u001b[0m             \u001b[0mtarget\u001b[0m\u001b[0;34m,\u001b[0m \u001b[0mmsg\u001b[0m \u001b[0;34m=\u001b[0m \u001b[0mcleanup_outdir\u001b[0m\u001b[0;34m(\u001b[0m\u001b[0moutdir\u001b[0m\u001b[0;34m,\u001b[0m \u001b[0marchive\u001b[0m\u001b[0;34m)\u001b[0m\u001b[0;34m\u001b[0m\u001b[0;34m\u001b[0m\u001b[0m\n",
      "\u001b[0;32m/mnt/cube/tsainbur/conda_envs/tpy3/lib/python3.6/site-packages/patoolib/__init__.py\u001b[0m in \u001b[0;36mrun_archive_cmdlist\u001b[0;34m(archive_cmdlist, verbosity)\u001b[0m\n\u001b[1;32m    419\u001b[0m     \u001b[0;32melse\u001b[0m\u001b[0;34m:\u001b[0m\u001b[0;34m\u001b[0m\u001b[0;34m\u001b[0m\u001b[0m\n\u001b[1;32m    420\u001b[0m         \u001b[0mcmdlist\u001b[0m\u001b[0;34m,\u001b[0m \u001b[0mrunkwargs\u001b[0m \u001b[0;34m=\u001b[0m \u001b[0marchive_cmdlist\u001b[0m\u001b[0;34m,\u001b[0m \u001b[0;34m{\u001b[0m\u001b[0;34m}\u001b[0m\u001b[0;34m\u001b[0m\u001b[0;34m\u001b[0m\u001b[0m\n\u001b[0;32m--> 421\u001b[0;31m     \u001b[0;32mreturn\u001b[0m \u001b[0mutil\u001b[0m\u001b[0;34m.\u001b[0m\u001b[0mrun_checked\u001b[0m\u001b[0;34m(\u001b[0m\u001b[0mcmdlist\u001b[0m\u001b[0;34m,\u001b[0m \u001b[0mverbosity\u001b[0m\u001b[0;34m=\u001b[0m\u001b[0mverbosity\u001b[0m\u001b[0;34m,\u001b[0m \u001b[0;34m**\u001b[0m\u001b[0mrunkwargs\u001b[0m\u001b[0;34m)\u001b[0m\u001b[0;34m\u001b[0m\u001b[0;34m\u001b[0m\u001b[0m\n\u001b[0m\u001b[1;32m    422\u001b[0m \u001b[0;34m\u001b[0m\u001b[0m\n\u001b[1;32m    423\u001b[0m \u001b[0;34m\u001b[0m\u001b[0m\n",
      "\u001b[0;32m/mnt/cube/tsainbur/conda_envs/tpy3/lib/python3.6/site-packages/patoolib/util.py\u001b[0m in \u001b[0;36mrun_checked\u001b[0;34m(cmd, ret_ok, **kwargs)\u001b[0m\n\u001b[1;32m    225\u001b[0m     \u001b[0;32mif\u001b[0m \u001b[0mretcode\u001b[0m \u001b[0;32mnot\u001b[0m \u001b[0;32min\u001b[0m \u001b[0mret_ok\u001b[0m\u001b[0;34m:\u001b[0m\u001b[0;34m\u001b[0m\u001b[0;34m\u001b[0m\u001b[0m\n\u001b[1;32m    226\u001b[0m         \u001b[0mmsg\u001b[0m \u001b[0;34m=\u001b[0m \u001b[0;34m\"Command `%s' returned non-zero exit status %d\"\u001b[0m \u001b[0;34m%\u001b[0m \u001b[0;34m(\u001b[0m\u001b[0mcmd\u001b[0m\u001b[0;34m,\u001b[0m \u001b[0mretcode\u001b[0m\u001b[0;34m)\u001b[0m\u001b[0;34m\u001b[0m\u001b[0;34m\u001b[0m\u001b[0m\n\u001b[0;32m--> 227\u001b[0;31m         \u001b[0;32mraise\u001b[0m \u001b[0mPatoolError\u001b[0m\u001b[0;34m(\u001b[0m\u001b[0mmsg\u001b[0m\u001b[0;34m)\u001b[0m\u001b[0;34m\u001b[0m\u001b[0;34m\u001b[0m\u001b[0m\n\u001b[0m\u001b[1;32m    228\u001b[0m     \u001b[0;32mreturn\u001b[0m \u001b[0mretcode\u001b[0m\u001b[0;34m\u001b[0m\u001b[0;34m\u001b[0m\u001b[0m\n\u001b[1;32m    229\u001b[0m \u001b[0;34m\u001b[0m\u001b[0m\n",
      "\u001b[0;31mPatoolError\u001b[0m: Command `['/usr/bin/7z', 'x', '-o../../data/raw/pigeon/', '--', '../../data/raw/pigeon/pigeon.zip']' returned non-zero exit status 2"
     ]
    }
   ],
   "source": [
    "# download data\n",
    "tqdm_download(data_url, zip_loc)"
   ]
  },
  {
   "cell_type": "code",
   "execution_count": 123,
   "metadata": {
    "ExecuteTime": {
     "end_time": "2019-02-23T21:43:00.432661Z",
     "start_time": "2019-02-23T21:42:50.895598Z"
    }
   },
   "outputs": [
    {
     "name": "stdout",
     "output_type": "stream",
     "text": [
      "patool: Extracting ../../data/raw/pigeon/pigeon.zip ...\n",
      "patool: running /usr/bin/7z x -o../../data/raw/pigeon/ -- ../../data/raw/pigeon/pigeon.zip\n",
      "patool: ... ../../data/raw/pigeon/pigeon.zip extracted to `../../data/raw/pigeon/'.\n"
     ]
    },
    {
     "data": {
      "text/plain": [
       "'../../data/raw/pigeon/'"
      ]
     },
     "execution_count": 123,
     "metadata": {},
     "output_type": "execute_result"
    }
   ],
   "source": [
    "# extract the data\n",
    "patoolib.extract_archive(zip_loc, outdir=dl_output)"
   ]
  },
  {
   "cell_type": "code",
   "execution_count": 124,
   "metadata": {
    "ExecuteTime": {
     "end_time": "2019-02-23T21:43:00.446823Z",
     "start_time": "2019-02-23T21:43:00.437185Z"
    },
    "code_folding": []
   },
   "outputs": [],
   "source": [
    "# There are several img files that dont correspond directly to the data description table at \n",
    "#   https://www.uantwerpen.be/en/research-groups/bio-imaging-lab/research/mri-atlases/pigeon-brain-atlas/manual/\n",
    "#   I made a quick try at matching them up but this needs fixed\n",
    "systems_systems = [\n",
    "    ['Auditory1', [\n",
    "        '../../data/raw/pigeon/Full_package/Auditory/auditory1.img'\n",
    "    ]],\n",
    "    ['Auditory2', [\n",
    "        '../../data/raw/pigeon/Full_package/Auditory/auditory2.img'\n",
    "                  ]],\n",
    "    ['Olfactory', [\n",
    "        '../../data/raw/pigeon/Full_package/Olfactory/Olfactory.img'\n",
    "    ]],\n",
    "    ['Visual_thalamofugal', [\n",
    "        '../../data/raw/pigeon/Full_package/Visual/Thalamofugal/GLd-and-rotundus.img',\n",
    "    ]],\n",
    "    ['Somatosensory_wulst', [\n",
    "        '../../data/raw/pigeon/Full_package/Somatosensory/Wulst_HA_HI_HD-frontal-from-A13.img'\n",
    "    ]],\n",
    "    ['Somatosensory_spinal_system_and_body_representation', [\n",
    "        '../../data/raw/pigeon/Full_package/Somatosensory/Spinal system and body representation/GC_DLP_DIVA.img'\n",
    "    ]],\n",
    "    ['Somatosensory_trigeminal', [\n",
    "        '../../data/raw/pigeon/Full_package/Somatosensory/Trigeminal/PrV-and-Basalis.img'\n",
    "    ]],\n",
    "    ['Hippocampus', [\n",
    "        '../../data/raw/pigeon/Full_package/Hippocampus/hippocampus.img',\n",
    "    ]],\n",
    "    ['Visual_isthmic', [\n",
    "        '../../data/raw/pigeon/Full_package/Visual/Isthmic nuclei/Isthmo-opticus.img',\n",
    "        '../../data/raw/pigeon/Full_package/Visual/Isthmic nuclei/SLu-Ipc-Imc-right.img',\n",
    "        '../../data/raw/pigeon/Full_package/Visual/Isthmic nuclei/SLu-Ipc-Imc-left.img'\n",
    "    ]],\n",
    "    ['Arcopallium', [\n",
    "        '../../data/raw/pigeon/Full_package/Descending systems/Arcopallium/arcopallium.img'\n",
    "    ]],\n",
    "    ['Visual_wulst', [\n",
    "        '../../data/raw/pigeon/Full_package/Visual/Thalamofugal/visual-Wulst_HA_HI_HD-until-A13.img',\n",
    "    ]],\n",
    "\n",
    "    ['Arcopallium',[\n",
    "        '../../data/raw/pigeon/Full_package/Descending systems/Arcopallium/arcopallium.img'\n",
    "    ]],\n",
    "    \n",
    "    ['Visual_aos', [\n",
    "        '../../data/raw/pigeon/Full_package/Visual/Accessory Optic System/n-pontis-medialis.img',\n",
    "        '../../data/raw/pigeon/Full_package/Visual/Accessory Optic System/nBOR-Lentiformis-mesencephali.img'\n",
    "    ]],\n",
    "    ['Brain', [\n",
    "        '../../data/raw/pigeon/Full_package/Brainsurface/brainsurface_left.img',\n",
    "        '../../data/raw/pigeon/Full_package/Brainsurface/brainsurface_right.img'\n",
    "    ]]\n",
    "]"
   ]
  },
  {
   "cell_type": "code",
   "execution_count": 125,
   "metadata": {
    "ExecuteTime": {
     "end_time": "2019-02-23T21:43:00.561395Z",
     "start_time": "2019-02-23T21:43:00.448937Z"
    }
   },
   "outputs": [],
   "source": [
    "# brainsurface will need to be merged...\n",
    "#delineation_files = ['Auditory', 'Descending systems', 'Hippocampus', 'Olfactory', 'Somatosensory', 'Brainsurface']\n",
    "img_files = ['CT', 'T2', 'T2star']"
   ]
  },
  {
   "cell_type": "code",
   "execution_count": 126,
   "metadata": {
    "ExecuteTime": {
     "end_time": "2019-02-23T21:43:00.643194Z",
     "start_time": "2019-02-23T21:43:00.566425Z"
    }
   },
   "outputs": [],
   "source": [
    "# for some reason pigeon brain is \n",
    "brain_file = ['Brainsurface']"
   ]
  },
  {
   "cell_type": "code",
   "execution_count": 127,
   "metadata": {
    "ExecuteTime": {
     "end_time": "2019-02-23T21:43:00.734749Z",
     "start_time": "2019-02-23T21:43:00.647031Z"
    }
   },
   "outputs": [],
   "source": [
    "# get all hdr and img delination files\n",
    "all_delineation_files = np.concatenate([i[1] + [j[:-4]+'.hdr' for j in i[1]] for i in systems_systems])"
   ]
  },
  {
   "cell_type": "code",
   "execution_count": 128,
   "metadata": {
    "ExecuteTime": {
     "end_time": "2019-02-23T21:43:00.835210Z",
     "start_time": "2019-02-23T21:43:00.737244Z"
    }
   },
   "outputs": [],
   "source": [
    "# get the image files\n",
    "img_files = [\n",
    "    '../../data/raw/pigeon/Full_package/T2/T2.hdr',\n",
    "    '../../data/raw/pigeon/Full_package/T2/T2.img',\n",
    "    '../../data/raw/pigeon/Full_package/T2star/T2star.hdr',\n",
    "    '../../data/raw/pigeon/Full_package/T2star/T2star.img',\n",
    "    '../../data/raw/pigeon/Full_package/CT/CT.hdr',\n",
    "    '../../data/raw/pigeon/Full_package/CT/CT.img',\n",
    "]"
   ]
  },
  {
   "cell_type": "code",
   "execution_count": 129,
   "metadata": {
    "ExecuteTime": {
     "end_time": "2019-02-23T21:43:00.961128Z",
     "start_time": "2019-02-23T21:43:00.837085Z"
    }
   },
   "outputs": [
    {
     "data": {
      "text/plain": [
       "'../../data/processed/pigeon/'"
      ]
     },
     "execution_count": 129,
     "metadata": {},
     "output_type": "execute_result"
    }
   ],
   "source": [
    "img_output"
   ]
  },
  {
   "cell_type": "code",
   "execution_count": 130,
   "metadata": {
    "ExecuteTime": {
     "end_time": "2019-02-23T21:43:01.092243Z",
     "start_time": "2019-02-23T21:43:00.962919Z"
    }
   },
   "outputs": [],
   "source": [
    "for img_file in img_files:\n",
    "        shutil.move(img_file, img_output + os.path.basename(img_file))"
   ]
  },
  {
   "cell_type": "code",
   "execution_count": 131,
   "metadata": {
    "ExecuteTime": {
     "end_time": "2019-02-23T21:43:04.276794Z",
     "start_time": "2019-02-23T21:43:01.094765Z"
    }
   },
   "outputs": [],
   "source": [
    "for del_file in all_delineation_files:\n",
    "        shutil.copy(del_file, img_output+'delineations/' + os.path.basename(del_file))"
   ]
  }
 ],
 "metadata": {
  "kernelspec": {
   "display_name": "Python 3",
   "language": "python",
   "name": "python3"
  },
  "language_info": {
   "codemirror_mode": {
    "name": "ipython",
    "version": 3
   },
   "file_extension": ".py",
   "mimetype": "text/x-python",
   "name": "python",
   "nbconvert_exporter": "python",
   "pygments_lexer": "ipython3",
   "version": "3.6.8"
  }
 },
 "nbformat": 4,
 "nbformat_minor": 2
}
