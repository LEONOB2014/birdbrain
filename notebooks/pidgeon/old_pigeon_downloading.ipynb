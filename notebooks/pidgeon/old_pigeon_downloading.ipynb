{
 "cells": [
  {
   "cell_type": "code",
   "execution_count": 2,
   "metadata": {
    "ExecuteTime": {
     "end_time": "2019-02-22T21:19:37.618509Z",
     "start_time": "2019-02-22T21:19:37.612386Z"
    }
   },
   "outputs": [],
   "source": [
    "import urllib\n",
    "from tqdm import tqdm\n",
    "from birdbrain.utils import ensure_dir\n",
    "\n",
    "# from pyunpack import Archive\n",
    "import patoolib\n",
    "from glob import glob\n",
    "import numpy as np\n",
    "import shutil\n",
    "import os\n",
    "import subprocess\n",
    "\n",
    "\n",
    "from birdbrain.downloading import *"
   ]
  },
  {
   "cell_type": "code",
   "execution_count": null,
   "metadata": {},
   "outputs": [],
   "source": [
    "def get_pigeon_data():\n",
    "    if len(glob(\"../../data/processed/pigeon/delineations/*.img\")) > 1:\n",
    "        print(\"Data already download\")\n",
    "        return\n",
    "    print(\"Downloading data\")\n",
    "    "
   ]
  },
  {
   "cell_type": "code",
   "execution_count": 5,
   "metadata": {
    "ExecuteTime": {
     "end_time": "2019-02-22T21:21:45.211944Z",
     "start_time": "2019-02-22T21:21:45.205090Z"
    }
   },
   "outputs": [],
   "source": [
    "dl_output = \"../../data/raw/pigeon/\"  # data download\n",
    "img_output = \"../../data/processed/pigeon/\"  # processed save spot\n",
    "data_url = 'http://uahost.uantwerpen.be/bioimaginglab/pigeon.zip'"
   ]
  },
  {
   "cell_type": "code",
   "execution_count": 6,
   "metadata": {
    "ExecuteTime": {
     "end_time": "2019-02-22T21:21:45.809293Z",
     "start_time": "2019-02-22T21:21:45.800681Z"
    }
   },
   "outputs": [],
   "source": [
    "# ensure directories\n",
    "ensure_dir(dl_output)\n",
    "ensure_dir(img_output)\n",
    "ensure_dir(img_output + \"delineations/\")\n",
    "zip_loc = dl_output + \"pigeon.zip\""
   ]
  },
  {
   "cell_type": "code",
   "execution_count": 7,
   "metadata": {
    "ExecuteTime": {
     "end_time": "2019-02-22T21:22:07.428930Z",
     "start_time": "2019-02-22T21:21:46.361781Z"
    }
   },
   "outputs": [
    {
     "name": "stderr",
     "output_type": "stream",
     "text": [
      "                                                                  \r"
     ]
    },
    {
     "name": "stdout",
     "output_type": "stream",
     "text": [
      "patool: Extracting ../../data/raw/pigeon/pigeon.zip ...\n",
      "patool: running /usr/bin/7z x -o../../data/raw/pigeon/ -- ../../data/raw/pigeon/pigeon.zip\n",
      "patool: ... ../../data/raw/pigeon/pigeon.zip extracted to `../../data/raw/pigeon/'.\n"
     ]
    },
    {
     "data": {
      "text/plain": [
       "'../../data/raw/pigeon/'"
      ]
     },
     "execution_count": 7,
     "metadata": {},
     "output_type": "execute_result"
    }
   ],
   "source": [
    "# download data\n",
    "tqdm_download(data_url, zip_loc)\n",
    "\n",
    "# extract the data\n",
    "patoolib.extract_archive(zip_loc, outdir=dl_output)"
   ]
  },
  {
   "cell_type": "code",
   "execution_count": null,
   "metadata": {},
   "outputs": [],
   "source": [
    "'../../data/raw/pigeon/Full_package/Auditory/auditory1.hdr'"
   ]
  },
  {
   "cell_type": "code",
   "execution_count": null,
   "metadata": {},
   "outputs": [],
   "source": []
  },
  {
   "cell_type": "code",
   "execution_count": 16,
   "metadata": {
    "ExecuteTime": {
     "end_time": "2019-02-22T21:29:04.921837Z",
     "start_time": "2019-02-22T21:29:04.915823Z"
    }
   },
   "outputs": [],
   "source": [
    "# brainsurface will need to be merged...\n",
    "delineation_files = ['Auditory', 'Descending systems', 'Hippocampus', 'Olfactory', 'Somatosensory', 'Brainsurface']\n",
    "img_files = ['CT', 'T2', 'T2star']"
   ]
  },
  {
   "cell_type": "code",
   "execution_count": 17,
   "metadata": {
    "ExecuteTime": {
     "end_time": "2019-02-22T21:29:05.230014Z",
     "start_time": "2019-02-22T21:29:05.225447Z"
    }
   },
   "outputs": [],
   "source": [
    "# for some reason pigeon brain is \n",
    "brain_file = ['Brainsurface']"
   ]
  },
  {
   "cell_type": "code",
   "execution_count": 30,
   "metadata": {
    "ExecuteTime": {
     "end_time": "2019-02-22T21:32:05.634194Z",
     "start_time": "2019-02-22T21:32:05.617780Z"
    }
   },
   "outputs": [
    {
     "name": "stdout",
     "output_type": "stream",
     "text": [
      "/mnt/cube/tsainbur/Projects/github_repos/birdbrain/data/raw/pigeon/Full_package/Auditory/**/*.img\n",
      "['/mnt/cube/tsainbur/Projects/github_repos/birdbrain/data/raw/pigeon/Full_package/Auditory/auditory1.img', '/mnt/cube/tsainbur/Projects/github_repos/birdbrain/data/raw/pigeon/Full_package/Auditory/auditory2.img']\n",
      "/mnt/cube/tsainbur/Projects/github_repos/birdbrain/data/raw/pigeon/Full_package/Descending/ systems/**/*.img\n",
      "[]\n",
      "/mnt/cube/tsainbur/Projects/github_repos/birdbrain/data/raw/pigeon/Full_package/Hippocampus/**/*.img\n",
      "['/mnt/cube/tsainbur/Projects/github_repos/birdbrain/data/raw/pigeon/Full_package/Hippocampus/hippocampus.img']\n",
      "/mnt/cube/tsainbur/Projects/github_repos/birdbrain/data/raw/pigeon/Full_package/Olfactory/**/*.img\n",
      "['/mnt/cube/tsainbur/Projects/github_repos/birdbrain/data/raw/pigeon/Full_package/Olfactory/Nucleus-Taeniae.img', '/mnt/cube/tsainbur/Projects/github_repos/birdbrain/data/raw/pigeon/Full_package/Olfactory/Olfactory.img']\n",
      "/mnt/cube/tsainbur/Projects/github_repos/birdbrain/data/raw/pigeon/Full_package/Somatosensory/**/*.img\n",
      "['/mnt/cube/tsainbur/Projects/github_repos/birdbrain/data/raw/pigeon/Full_package/Somatosensory/Wulst_HA_HI_HD-frontal-from-A13.img', '/mnt/cube/tsainbur/Projects/github_repos/birdbrain/data/raw/pigeon/Full_package/Somatosensory/Trigeminal/PrV-and-Basalis.img', '/mnt/cube/tsainbur/Projects/github_repos/birdbrain/data/raw/pigeon/Full_package/Somatosensory/Spinal system and body representation/GC_DLP_DIVA.img']\n",
      "/mnt/cube/tsainbur/Projects/github_repos/birdbrain/data/raw/pigeon/Full_package/Brainsurface/**/*.img\n",
      "['/mnt/cube/tsainbur/Projects/github_repos/birdbrain/data/raw/pigeon/Full_package/Brainsurface/brainsurface_left.img', '/mnt/cube/tsainbur/Projects/github_repos/birdbrain/data/raw/pigeon/Full_package/Brainsurface/brainsurface_right.img']\n"
     ]
    }
   ],
   "source": [
    "for df in delineation_files:\n",
    "    path = os.path.abspath('../../data/raw/pigeon/Full_package/'+df+'/') +'/**/*.img'\n",
    "    print(path)\n",
    "    files = glob(path, recursive=True)\n",
    "    print(files)"
   ]
  },
  {
   "cell_type": "code",
   "execution_count": null,
   "metadata": {},
   "outputs": [],
   "source": [
    "# move files to correct locations"
   ]
  },
  {
   "cell_type": "code",
   "execution_count": 25,
   "metadata": {
    "ExecuteTime": {
     "end_time": "2019-02-22T21:30:42.047083Z",
     "start_time": "2019-02-22T21:30:42.038703Z"
    }
   },
   "outputs": [
    {
     "data": {
      "text/plain": [
       "['../../data/raw/pigeon/Full_package/Descending systems/Arcopallium/arcopallium.img']"
      ]
     },
     "execution_count": 25,
     "metadata": {},
     "output_type": "execute_result"
    }
   ],
   "source": [
    "glob('../../data/raw/pigeon/Full_package/Descending systems/Arcopallium/*.img')"
   ]
  },
  {
   "cell_type": "code",
   "execution_count": 28,
   "metadata": {
    "ExecuteTime": {
     "end_time": "2019-02-22T21:31:27.857027Z",
     "start_time": "2019-02-22T21:31:27.848735Z"
    }
   },
   "outputs": [
    {
     "data": {
      "text/plain": [
       "'/mnt/cube/tsainbur/Projects/github_repos/birdbrain/data/raw/pigeon/Full_package/Brainsurface'"
      ]
     },
     "execution_count": 28,
     "metadata": {},
     "output_type": "execute_result"
    }
   ],
   "source": []
  },
  {
   "cell_type": "code",
   "execution_count": null,
   "metadata": {},
   "outputs": [],
   "source": []
  }
 ],
 "metadata": {
  "kernelspec": {
   "display_name": "Python 3",
   "language": "python",
   "name": "python3"
  },
  "language_info": {
   "codemirror_mode": {
    "name": "ipython",
    "version": 3
   },
   "file_extension": ".py",
   "mimetype": "text/x-python",
   "name": "python",
   "nbconvert_exporter": "python",
   "pygments_lexer": "ipython3",
   "version": "3.6.8"
  }
 },
 "nbformat": 4,
 "nbformat_minor": 2
}
