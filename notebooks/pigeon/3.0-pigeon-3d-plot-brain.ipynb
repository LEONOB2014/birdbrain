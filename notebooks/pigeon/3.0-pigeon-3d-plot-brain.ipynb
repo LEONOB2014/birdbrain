{
 "cells": [
  {
   "cell_type": "code",
   "execution_count": 1,
   "metadata": {
    "ExecuteTime": {
     "end_time": "2019-02-26T03:10:13.187665Z",
     "start_time": "2019-02-26T03:10:13.167583Z"
    }
   },
   "outputs": [],
   "source": [
    "%load_ext autoreload\n",
    "%autoreload 2"
   ]
  },
  {
   "cell_type": "code",
   "execution_count": 2,
   "metadata": {
    "ExecuteTime": {
     "end_time": "2019-02-26T03:10:17.607036Z",
     "start_time": "2019-02-26T03:10:13.189949Z"
    }
   },
   "outputs": [
    {
     "name": "stderr",
     "output_type": "stream",
     "text": [
      "/mnt/cube/tsainbur/conda_envs/tpy3/lib/python3.6/site-packages/tqdm/autonotebook/__init__.py:14: TqdmExperimentalWarning: Using `tqdm.autonotebook.tqdm` in notebook mode. Use `tqdm.tqdm` instead to force console mode (e.g. in jupyter console)\n",
      "  \" (e.g. in jupyter console)\", TqdmExperimentalWarning)\n"
     ]
    }
   ],
   "source": [
    "from birdbrain.atlas import atlas\n",
    "from birdbrain.utils import um_to_vox\n",
    "import numpy as np\n",
    "from birdbrain.visualization.plotting_3d import plot_regions_3d"
   ]
  },
  {
   "cell_type": "code",
   "execution_count": 25,
   "metadata": {
    "ExecuteTime": {
     "end_time": "2019-02-26T03:28:57.943343Z",
     "start_time": "2019-02-26T03:28:51.623227Z"
    }
   },
   "outputs": [
    {
     "name": "stdout",
     "output_type": "stream",
     "text": [
      "Data already download\n",
      "Getting voxel data from .img files...\n"
     ]
    },
    {
     "data": {
      "application/vnd.jupyter.widget-view+json": {
       "model_id": "",
       "version_major": 2,
       "version_minor": 0
      },
      "text/plain": [
       "HBox(children=(IntProgress(value=0, max=1), HTML(value='')))"
      ]
     },
     "metadata": {},
     "output_type": "display_data"
    },
    {
     "name": "stdout",
     "output_type": "stream",
     "text": [
      "\r",
      "Getting location for each nucleus/region from voxel data...\n"
     ]
    },
    {
     "data": {
      "application/vnd.jupyter.widget-view+json": {
       "model_id": "",
       "version_major": 2,
       "version_minor": 0
      },
      "text/plain": [
       "HBox(children=(IntProgress(value=0, max=32), HTML(value='')))"
      ]
     },
     "metadata": {},
     "output_type": "display_data"
    },
    {
     "name": "stdout",
     "output_type": "stream",
     "text": [
      "\r",
      "Atlas created\n"
     ]
    }
   ],
   "source": [
    "dset_dir = '../../data/processed/pigeon/'\n",
    "\n",
    "pigeon_atlas = atlas(\n",
    "    species = 'pigeon',\n",
    "    dset_dir = dset_dir,\n",
    "    um_mult = 1,\n",
    "    smoothing = ['Brain'],\n",
    "    updated_y_sinus = [0, 0, 0]\n",
    ")"
   ]
  },
  {
   "cell_type": "code",
   "execution_count": 26,
   "metadata": {
    "ExecuteTime": {
     "end_time": "2019-02-26T03:28:57.980985Z",
     "start_time": "2019-02-26T03:28:57.945758Z"
    }
   },
   "outputs": [
    {
     "data": {
      "text/plain": [
       "array(['Arcopallium', 'Auditory1', 'Auditory2', 'Olfactory',\n",
       "       'Somatosensory_spinal_system_and_body_representation',\n",
       "       'Somatosensory_trigeminal', 'Somatosensory_wulst', 'Visual_aos',\n",
       "       'Visual_isthmic', 'Visual_thalamofugal', 'Visual_wulst'],\n",
       "      dtype=object)"
      ]
     },
     "execution_count": 26,
     "metadata": {},
     "output_type": "execute_result"
    }
   ],
   "source": [
    "# all of the different subsets of delineations available \n",
    "all_r2p = np.unique(pigeon_atlas.region_vox.type_)\n",
    "all_r2p"
   ]
  },
  {
   "cell_type": "code",
   "execution_count": 27,
   "metadata": {
    "ExecuteTime": {
     "end_time": "2019-02-26T03:28:58.088646Z",
     "start_time": "2019-02-26T03:28:57.983416Z"
    }
   },
   "outputs": [
    {
     "data": {
      "text/plain": [
       "32"
      ]
     },
     "execution_count": 27,
     "metadata": {},
     "output_type": "execute_result"
    }
   ],
   "source": [
    "regs = np.concatenate([[[reg, r2p] for reg in list(pigeon_atlas.brain_labels[pigeon_atlas.brain_labels.type_ == r2p].region.values)] for r2p in all_r2p])\n",
    "len(regs)"
   ]
  },
  {
   "cell_type": "code",
   "execution_count": 45,
   "metadata": {
    "ExecuteTime": {
     "end_time": "2019-02-26T03:48:46.992392Z",
     "start_time": "2019-02-26T03:48:46.490478Z"
    }
   },
   "outputs": [],
   "source": [
    "vox_data = np.swapaxes(\n",
    "    np.array(\n",
    "        pigeon_atlas.voxel_data.loc['Arcopallium', \"voxels\"]\n",
    "        == pigeon_atlas.brain_labels.loc['Striatum', \"label\"]\n",
    "    ),\n",
    "    0,\n",
    "    2,\n",
    ")"
   ]
  },
  {
   "cell_type": "code",
   "execution_count": 46,
   "metadata": {
    "ExecuteTime": {
     "end_time": "2019-02-26T03:48:51.090214Z",
     "start_time": "2019-02-26T03:48:51.014849Z"
    }
   },
   "outputs": [
    {
     "data": {
      "text/plain": [
       "(199, 308, 256)"
      ]
     },
     "execution_count": 46,
     "metadata": {},
     "output_type": "execute_result"
    }
   ],
   "source": []
  },
  {
   "cell_type": "code",
   "execution_count": 44,
   "metadata": {
    "ExecuteTime": {
     "end_time": "2019-02-26T03:48:13.926866Z",
     "start_time": "2019-02-26T03:48:13.850127Z"
    }
   },
   "outputs": [
    {
     "data": {
      "text/plain": [
       "array([['Striatum', 'Arcopallium']], dtype='<U51')"
      ]
     },
     "execution_count": 44,
     "metadata": {},
     "output_type": "execute_result"
    }
   ],
   "source": [
    "regs[:1]"
   ]
  },
  {
   "cell_type": "code",
   "execution_count": 48,
   "metadata": {
    "ExecuteTime": {
     "end_time": "2019-02-26T03:50:05.524560Z",
     "start_time": "2019-02-26T03:50:03.025467Z"
    },
    "scrolled": false
   },
   "outputs": [
    {
     "data": {
      "application/vnd.jupyter.widget-view+json": {
       "model_id": "",
       "version_major": 2,
       "version_minor": 0
      },
      "text/plain": [
       "HBox(children=(IntProgress(value=0, max=1), HTML(value='')))"
      ]
     },
     "metadata": {},
     "output_type": "display_data"
    },
    {
     "name": "stderr",
     "output_type": "stream",
     "text": [
      "/mnt/cube/tsainbur/conda_envs/tpy3/lib/python3.6/site-packages/traittypes/traittypes.py:101: UserWarning: Given trait value dtype \"bool\" does not match required type \"float32\". A coerced copy has been created.\n",
      "  np.dtype(self.dtype).name))\n"
     ]
    },
    {
     "name": "stdout",
     "output_type": "stream",
     "text": [
      "(199, 308, 256) [0, 102.51256281407035, 0, 79.74025974025975, 0, 77.34375] 37825\n",
      "\r"
     ]
    },
    {
     "data": {
      "application/vnd.jupyter.widget-view+json": {
       "model_id": "92cc4793cab545458cb811c744389bc8",
       "version_major": 2,
       "version_minor": 0
      },
      "text/plain": [
       "Output()"
      ]
     },
     "metadata": {},
     "output_type": "display_data"
    },
    {
     "data": {
      "application/vnd.jupyter.widget-view+json": {
       "model_id": "a10f6691435e407ba50847dc08240710",
       "version_major": 2,
       "version_minor": 0
      },
      "text/plain": [
       "FloatSlider(value=0.0, description='medial-lateral:', max=10080.0, min=-10320.0, step=100.0)"
      ]
     },
     "metadata": {},
     "output_type": "display_data"
    },
    {
     "data": {
      "application/vnd.jupyter.widget-view+json": {
       "model_id": "f193821bad7b41f29a4df42462f0b1fd",
       "version_major": 2,
       "version_minor": 0
      },
      "text/plain": [
       "FloatSlider(value=0.0, description='posterior-anterior:', max=18240.0, min=-6320.0, step=100.0)"
      ]
     },
     "metadata": {},
     "output_type": "display_data"
    },
    {
     "data": {
      "application/vnd.jupyter.widget-view+json": {
       "model_id": "62acc3458aed4b169a0f037c1b9b633f",
       "version_major": 2,
       "version_minor": 0
      },
      "text/plain": [
       "FloatSlider(value=0.0, description='ventral-dorsal:', max=17600.0, min=-2200.0, step=100.0)"
      ]
     },
     "metadata": {},
     "output_type": "display_data"
    },
    {
     "data": {
      "application/vnd.jupyter.widget-view+json": {
       "model_id": "0ac2bbe6c1ee4a2ab69e6940e4fe0a8e",
       "version_major": 2,
       "version_minor": 0
      },
      "text/plain": [
       "Dropdown(description='Region:', index=1, options=('HI - HD', 'y_sinus'), value='y_sinus')"
      ]
     },
     "metadata": {},
     "output_type": "display_data"
    }
   ],
   "source": [
    "plot, vec  = plot_regions_3d(pigeon_atlas, regions_to_plot = regs[-1:], downsample_pct = 1, polygon_simplification = 0, verbose=False)"
   ]
  },
  {
   "cell_type": "code",
   "execution_count": null,
   "metadata": {},
   "outputs": [],
   "source": []
  }
 ],
 "metadata": {
  "kernelspec": {
   "display_name": "Python 3",
   "language": "python",
   "name": "python3"
  }
 },
 "nbformat": 4,
 "nbformat_minor": 2
}
