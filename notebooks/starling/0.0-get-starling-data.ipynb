{
 "cells": [
  {
   "cell_type": "code",
   "execution_count": 1,
   "metadata": {
    "ExecuteTime": {
     "end_time": "2019-02-22T18:46:00.183849Z",
     "start_time": "2019-02-22T18:46:00.178954Z"
    }
   },
   "outputs": [],
   "source": [
    "import os\n",
    "import shutil\n",
    "from glob import glob"
   ]
  },
  {
   "cell_type": "markdown",
   "metadata": {},
   "source": [
    "### Make the data directory"
   ]
  },
  {
   "cell_type": "code",
   "execution_count": 2,
   "metadata": {
    "ExecuteTime": {
     "end_time": "2019-02-21T00:03:30.673549Z",
     "start_time": "2019-02-21T00:03:30.440408Z"
    }
   },
   "outputs": [],
   "source": [
    "# for raw data download\n",
    "!mkdir -p ../../data/raw/starling/\n",
    "# for processed data to be moved to\n",
    "!mkdir -p ../../data/processed/starling/delineations/"
   ]
  },
  {
   "cell_type": "markdown",
   "metadata": {},
   "source": [
    "### Download the atlas"
   ]
  },
  {
   "cell_type": "code",
   "execution_count": 3,
   "metadata": {
    "ExecuteTime": {
     "end_time": "2019-02-21T00:03:56.011734Z",
     "start_time": "2019-02-21T00:03:31.718792Z"
    }
   },
   "outputs": [
    {
     "name": "stdout",
     "output_type": "stream",
     "text": [
      "--2019-02-20 16:03:31--  http://uahost.uantwerpen.be/bioimaginglab/starling.zip\n",
      "Resolving dsspublic.ucsd.edu (dsspublic.ucsd.edu)... 132.239.147.118\n",
      "Connecting to dsspublic.ucsd.edu (dsspublic.ucsd.edu)|132.239.147.118|:3128... connected.\n",
      "Proxy request sent, awaiting response... 200 OK\n",
      "Length: 296499157 (283M) [application/x-zip-compressed]\n",
      "Saving to: ‘../../data/raw/starling/starling.zip’\n",
      "\n",
      "../../data/raw/star 100%[===================>] 282.76M  15.1MB/s    in 22s     \n",
      "\n",
      "2019-02-20 16:03:55 (12.6 MB/s) - ‘../../data/raw/starling/starling.zip’ saved [296499157/296499157]\n",
      "\n"
     ]
    }
   ],
   "source": [
    "!wget http://uahost.uantwerpen.be/bioimaginglab/starling.zip -O ../../data/raw/starling/starling.zip"
   ]
  },
  {
   "cell_type": "markdown",
   "metadata": {},
   "source": [
    "### Unzip the data"
   ]
  },
  {
   "cell_type": "code",
   "execution_count": 4,
   "metadata": {
    "ExecuteTime": {
     "end_time": "2019-02-21T00:04:08.698877Z",
     "start_time": "2019-02-21T00:03:59.092500Z"
    }
   },
   "outputs": [
    {
     "name": "stdout",
     "output_type": "stream",
     "text": [
      "Archive:  ../../data/raw/starling/starling.zip\n",
      "   creating: ../../data/raw/starling/ATLAS_starling/\n",
      "  inflating: ../../data/raw/starling/ATLAS_starling/.DS_Store  \n",
      "   creating: ../../data/raw/starling/__MACOSX/\n",
      "   creating: ../../data/raw/starling/__MACOSX/ATLAS_starling/\n",
      "  inflating: ../../data/raw/starling/__MACOSX/ATLAS_starling/._.DS_Store  \n",
      "  inflating: ../../data/raw/starling/ATLAS_starling/CT.hdr  \n",
      "  inflating: ../../data/raw/starling/ATLAS_starling/CT.img  \n",
      "   creating: ../../data/raw/starling/ATLAS_starling/delineations/\n",
      "  inflating: ../../data/raw/starling/ATLAS_starling/delineations/.DS_Store  \n",
      "   creating: ../../data/raw/starling/__MACOSX/ATLAS_starling/delineations/\n",
      "  inflating: ../../data/raw/starling/__MACOSX/ATLAS_starling/delineations/._.DS_Store  \n",
      "  inflating: ../../data/raw/starling/ATLAS_starling/delineations/Brain.am  \n",
      "  inflating: ../../data/raw/starling/ATLAS_starling/delineations/Brain.hdr  \n",
      "  inflating: ../../data/raw/starling/ATLAS_starling/delineations/Brain.img  \n",
      "  inflating: ../../data/raw/starling/ATLAS_starling/delineations/Brainregions.am  \n",
      "  inflating: ../../data/raw/starling/ATLAS_starling/delineations/Brainregions.hdr  \n",
      "  inflating: ../../data/raw/starling/ATLAS_starling/delineations/Brainregions.img  \n",
      "  inflating: ../../data/raw/starling/ATLAS_starling/delineations/Brainregions.txt  \n",
      "  inflating: ../../data/raw/starling/ATLAS_starling/delineations/Nuclei.am  \n",
      "  inflating: ../../data/raw/starling/ATLAS_starling/delineations/Nuclei.hdr  \n",
      "  inflating: ../../data/raw/starling/ATLAS_starling/delineations/Nuclei.img  \n",
      "  inflating: ../../data/raw/starling/ATLAS_starling/delineations/Nuclei.txt  \n",
      "  inflating: ../../data/raw/starling/ATLAS_starling/delineations/Tracts.am  \n",
      "  inflating: ../../data/raw/starling/ATLAS_starling/delineations/Tracts.hdr  \n",
      "  inflating: ../../data/raw/starling/ATLAS_starling/delineations/Tracts.img  \n",
      "  inflating: ../../data/raw/starling/ATLAS_starling/delineations/Tracts.txt  \n",
      "  inflating: ../../data/raw/starling/ATLAS_starling/delineations/Ventricle.am  \n",
      "  inflating: ../../data/raw/starling/ATLAS_starling/delineations/Ventricle.hdr  \n",
      "  inflating: ../../data/raw/starling/ATLAS_starling/delineations/Ventricle.img  \n",
      "  inflating: ../../data/raw/starling/ATLAS_starling/PD.hdr  \n",
      "  inflating: ../../data/raw/starling/ATLAS_starling/PD.img  \n",
      "  inflating: ../../data/raw/starling/ATLAS_starling/T2.hdr  \n",
      "  inflating: ../../data/raw/starling/ATLAS_starling/T2.img  \n",
      "  inflating: ../../data/raw/starling/ATLAS_starling/T2star_HR.hdr  \n",
      "  inflating: ../../data/raw/starling/ATLAS_starling/T2star_HR.img  \n"
     ]
    }
   ],
   "source": [
    "!unzip ../../data/raw/starling/starling.zip -d ../../data/raw/starling/"
   ]
  },
  {
   "cell_type": "markdown",
   "metadata": {
    "ExecuteTime": {
     "end_time": "2019-02-20T20:46:48.827846Z",
     "start_time": "2019-02-20T20:46:48.708554Z"
    }
   },
   "source": [
    "### move data into reading directory"
   ]
  },
  {
   "cell_type": "code",
   "execution_count": 11,
   "metadata": {
    "ExecuteTime": {
     "end_time": "2019-02-21T00:05:49.350683Z",
     "start_time": "2019-02-21T00:05:49.339358Z"
    }
   },
   "outputs": [
    {
     "data": {
      "text/plain": [
       "['../../data/raw/starling/ATLAS_starling/delineations/Nuclei.txt',\n",
       " '../../data/raw/starling/ATLAS_starling/delineations/Ventricle.am',\n",
       " '../../data/raw/starling/ATLAS_starling/delineations/Nuclei.am',\n",
       " '../../data/raw/starling/ATLAS_starling/delineations/Ventricle.img',\n",
       " '../../data/raw/starling/ATLAS_starling/delineations/Nuclei.hdr',\n",
       " '../../data/raw/starling/ATLAS_starling/delineations/Brain.hdr',\n",
       " '../../data/raw/starling/ATLAS_starling/delineations/Brainregions.img',\n",
       " '../../data/raw/starling/ATLAS_starling/delineations/Tracts.txt',\n",
       " '../../data/raw/starling/ATLAS_starling/delineations/Brain.am',\n",
       " '../../data/raw/starling/ATLAS_starling/delineations/Tracts.hdr',\n",
       " '../../data/raw/starling/ATLAS_starling/delineations/Brainregions.hdr',\n",
       " '../../data/raw/starling/ATLAS_starling/delineations/Brainregions.am',\n",
       " '../../data/raw/starling/ATLAS_starling/delineations/Brainregions.txt',\n",
       " '../../data/raw/starling/ATLAS_starling/delineations/Tracts.img',\n",
       " '../../data/raw/starling/ATLAS_starling/delineations/Tracts.am',\n",
       " '../../data/raw/starling/ATLAS_starling/delineations/Brain.img',\n",
       " '../../data/raw/starling/ATLAS_starling/delineations/Nuclei.img',\n",
       " '../../data/raw/starling/ATLAS_starling/delineations/Ventricle.hdr']"
      ]
     },
     "execution_count": 11,
     "metadata": {},
     "output_type": "execute_result"
    }
   ],
   "source": [
    "glob('../../data/raw/starling/ATLAS_starling/delineations/*')"
   ]
  },
  {
   "cell_type": "code",
   "execution_count": 29,
   "metadata": {
    "ExecuteTime": {
     "end_time": "2019-02-21T00:11:20.288457Z",
     "start_time": "2019-02-21T00:11:20.278141Z"
    }
   },
   "outputs": [
    {
     "data": {
      "text/plain": [
       "['../../data/raw/starling/ATLAS_starling/delineations/Nuclei.txt',\n",
       " '../../data/raw/starling/ATLAS_starling/delineations/Tracts.txt',\n",
       " '../../data/raw/starling/ATLAS_starling/delineations/Brainregions.txt',\n",
       " '../../data/raw/starling/ATLAS_starling/delineations/Nuclei.hdr',\n",
       " '../../data/raw/starling/ATLAS_starling/delineations/Brain.hdr',\n",
       " '../../data/raw/starling/ATLAS_starling/delineations/Tracts.hdr',\n",
       " '../../data/raw/starling/ATLAS_starling/delineations/Brainregions.hdr',\n",
       " '../../data/raw/starling/ATLAS_starling/delineations/Ventricle.hdr',\n",
       " '../../data/raw/starling/ATLAS_starling/delineations/Ventricle.img',\n",
       " '../../data/raw/starling/ATLAS_starling/delineations/Brainregions.img',\n",
       " '../../data/raw/starling/ATLAS_starling/delineations/Tracts.img',\n",
       " '../../data/raw/starling/ATLAS_starling/delineations/Brain.img',\n",
       " '../../data/raw/starling/ATLAS_starling/delineations/Nuclei.img']"
      ]
     },
     "execution_count": 29,
     "metadata": {},
     "output_type": "execute_result"
    }
   ],
   "source": [
    "delineation_data = sum((([glob('../../data/raw/starling/ATLAS_starling/delineations/*.'+ft) for ft in ['txt', 'hdr', 'img']])), [])\n",
    "delineation_data"
   ]
  },
  {
   "cell_type": "code",
   "execution_count": 39,
   "metadata": {
    "ExecuteTime": {
     "end_time": "2019-02-21T00:13:02.289595Z",
     "start_time": "2019-02-21T00:13:02.274372Z"
    }
   },
   "outputs": [],
   "source": [
    "# move the delineation files\n",
    "for img in delineation_data:\n",
    "    shutil.move(img, '../../data/processed/starling/delineations/'+os.path.basename(img))"
   ]
  },
  {
   "cell_type": "code",
   "execution_count": 40,
   "metadata": {
    "ExecuteTime": {
     "end_time": "2019-02-21T00:13:03.986165Z",
     "start_time": "2019-02-21T00:13:03.975850Z"
    }
   },
   "outputs": [
    {
     "data": {
      "text/plain": [
       "[]"
      ]
     },
     "execution_count": 40,
     "metadata": {},
     "output_type": "execute_result"
    }
   ],
   "source": [
    "img_data = sum((([glob('../../data/raw/starling/ATLAS_starling/*.'+ft) for ft in ['txt', 'hdr', 'img']])), [])\n",
    "img_data"
   ]
  },
  {
   "cell_type": "code",
   "execution_count": 41,
   "metadata": {
    "ExecuteTime": {
     "end_time": "2019-02-21T00:13:04.494303Z",
     "start_time": "2019-02-21T00:13:04.488555Z"
    }
   },
   "outputs": [],
   "source": [
    "# move the delineation files\n",
    "for img in img_data:\n",
    "    shutil.move(img, '../../data/processed/starling/'+os.path.basename(img))"
   ]
  },
  {
   "cell_type": "code",
   "execution_count": 42,
   "metadata": {
    "ExecuteTime": {
     "end_time": "2019-02-21T00:13:04.991714Z",
     "start_time": "2019-02-21T00:13:04.983359Z"
    }
   },
   "outputs": [
    {
     "data": {
      "text/plain": [
       "'../../data/processed/starling/Nuclei.img'"
      ]
     },
     "execution_count": 42,
     "metadata": {},
     "output_type": "execute_result"
    }
   ],
   "source": [
    "'../../data/processed/starling/'+os.path.basename(img)"
   ]
  },
  {
   "cell_type": "code",
   "execution_count": 11,
   "metadata": {
    "ExecuteTime": {
     "end_time": "2019-02-22T18:47:42.540024Z",
     "start_time": "2019-02-22T18:47:42.521043Z"
    }
   },
   "outputs": [],
   "source": [
    "from birdbrain.downloading import tqdm_download\n",
    "from pyunpack import Archive"
   ]
  },
  {
   "cell_type": "code",
   "execution_count": 2,
   "metadata": {
    "ExecuteTime": {
     "end_time": "2019-02-22T18:46:05.473051Z",
     "start_time": "2019-02-22T18:46:05.467231Z"
    }
   },
   "outputs": [],
   "source": [
    "def get_starling_data():\n",
    "    if len(glob('../../data/processed/starling/delineations/*.img')) > 1:\n",
    "        print('Data already download')\n",
    "        return\n",
    "    \n",
    "    print('Downloading data')\n",
    "    dl_output = '../../data/raw/starling/' # data download\n",
    "    img_output = '../../data/processed/starling/' # processed save spot\n",
    "    data_url = 'http://uahost.uantwerpen.be/bioimaginglab/starling.zip'\n",
    "    \n",
    "    # ensure directories\n",
    "    ensure_dir(dl_output)\n",
    "    ensure_dir(img_output)\n",
    "    ensure_dir(img_output+'delineations/')\n",
    "    \n",
    "    # download data\n",
    "    tqdm_download(data_url, dl_output+'starling.zip')\n",
    "    \n",
    "    # extract the data\n",
    "    Archive(zip_loc).extractall(dl_output)\n",
    "    \n",
    "    # move the data to the correct location\n",
    "    for img_file in np.concatenate([glob(dl_output+'ATLAS_starling/*.'+ed) for ed in ['img', 'hdr']]):\n",
    "        shutil.move(img_file, img_output + os.path.basename(img_file))\n",
    "    for img_file in np.concatenate([glob(dl_output+'ATLAS_starling/delineations/*.'+ed) for ed in ['img', 'hdr']]):\n",
    "        shutil.move(img_file, img_output + 'delineations/' + os.path.basename(img_file))\n",
    "    "
   ]
  },
  {
   "cell_type": "code",
   "execution_count": 3,
   "metadata": {
    "ExecuteTime": {
     "end_time": "2019-02-22T18:46:08.764647Z",
     "start_time": "2019-02-22T18:46:05.683931Z"
    }
   },
   "outputs": [
    {
     "name": "stderr",
     "output_type": "stream",
     "text": [
      "/mnt/cube/tsainbur/conda_envs/tpy3/lib/python3.6/site-packages/tqdm/autonotebook/__init__.py:14: TqdmExperimentalWarning: Using `tqdm.autonotebook.tqdm` in notebook mode. Use `tqdm.tqdm` instead to force console mode (e.g. in jupyter console)\n",
      "  \" (e.g. in jupyter console)\", TqdmExperimentalWarning)\n"
     ]
    }
   ],
   "source": [
    "from birdbrain.utils import ensure_dir"
   ]
  },
  {
   "cell_type": "code",
   "execution_count": 5,
   "metadata": {
    "ExecuteTime": {
     "end_time": "2019-02-22T18:46:15.176915Z",
     "start_time": "2019-02-22T18:46:15.160032Z"
    }
   },
   "outputs": [
    {
     "name": "stdout",
     "output_type": "stream",
     "text": [
      "Downloading data\n"
     ]
    },
    {
     "ename": "NameError",
     "evalue": "name 'tqdm_download' is not defined",
     "output_type": "error",
     "traceback": [
      "\u001b[0;31m---------------------------------------------------------------------------\u001b[0m",
      "\u001b[0;31mNameError\u001b[0m                                 Traceback (most recent call last)",
      "\u001b[0;32m<ipython-input-5-0a761f6654b2>\u001b[0m in \u001b[0;36m<module>\u001b[0;34m\u001b[0m\n\u001b[1;32m      5\u001b[0m \u001b[0;31m# download data\u001b[0m\u001b[0;34m\u001b[0m\u001b[0;34m\u001b[0m\u001b[0;34m\u001b[0m\u001b[0m\n\u001b[1;32m      6\u001b[0m \u001b[0mzip_loc\u001b[0m \u001b[0;34m=\u001b[0m \u001b[0mdl_output\u001b[0m\u001b[0;34m+\u001b[0m\u001b[0;34m'starling.zip'\u001b[0m\u001b[0;34m\u001b[0m\u001b[0;34m\u001b[0m\u001b[0m\n\u001b[0;32m----> 7\u001b[0;31m \u001b[0mtqdm_download\u001b[0m\u001b[0;34m(\u001b[0m\u001b[0mdata_url\u001b[0m\u001b[0;34m,\u001b[0m \u001b[0mzip_loc\u001b[0m\u001b[0;34m)\u001b[0m\u001b[0;34m\u001b[0m\u001b[0;34m\u001b[0m\u001b[0m\n\u001b[0m",
      "\u001b[0;31mNameError\u001b[0m: name 'tqdm_download' is not defined"
     ]
    }
   ],
   "source": [
    "print('Downloading data')\n",
    "dl_output = '../../data/raw/starling/' # data download\n",
    "img_output = '../../data/processed/starling/' # processed save spot\n",
    "data_url = 'http://uahost.uantwerpen.be/bioimaginglab/starling.zip'\n",
    "# download data\n",
    "zip_loc = dl_output+'starling.zip'\n"
   ]
  },
  {
   "cell_type": "code",
   "execution_count": 6,
   "metadata": {
    "ExecuteTime": {
     "end_time": "2019-02-22T18:46:23.613021Z",
     "start_time": "2019-02-22T18:46:23.606036Z"
    }
   },
   "outputs": [],
   "source": [
    "ensure_dir(dl_output)\n",
    "ensure_dir(img_output)\n",
    "ensure_dir(img_output+'delineations/')"
   ]
  },
  {
   "cell_type": "code",
   "execution_count": null,
   "metadata": {},
   "outputs": [],
   "source": [
    "tqdm_download(data_url, zip_loc)"
   ]
  },
  {
   "cell_type": "code",
   "execution_count": 12,
   "metadata": {
    "ExecuteTime": {
     "end_time": "2019-02-22T18:47:54.008240Z",
     "start_time": "2019-02-22T18:47:44.373015Z"
    }
   },
   "outputs": [],
   "source": [
    "Archive(zip_loc).extractall(dl_output)"
   ]
  },
  {
   "cell_type": "code",
   "execution_count": 13,
   "metadata": {
    "ExecuteTime": {
     "end_time": "2019-02-22T18:48:01.737220Z",
     "start_time": "2019-02-22T18:48:01.730752Z"
    }
   },
   "outputs": [],
   "source": [
    "import shutil"
   ]
  },
  {
   "cell_type": "code",
   "execution_count": 14,
   "metadata": {
    "ExecuteTime": {
     "end_time": "2019-02-22T18:48:02.717744Z",
     "start_time": "2019-02-22T18:48:02.712859Z"
    }
   },
   "outputs": [],
   "source": [
    "from glob import glob"
   ]
  },
  {
   "cell_type": "code",
   "execution_count": 17,
   "metadata": {
    "ExecuteTime": {
     "end_time": "2019-02-22T18:49:15.015477Z",
     "start_time": "2019-02-22T18:49:15.010185Z"
    }
   },
   "outputs": [],
   "source": [
    "import numpy as np"
   ]
  },
  {
   "cell_type": "code",
   "execution_count": 19,
   "metadata": {
    "ExecuteTime": {
     "end_time": "2019-02-22T18:50:18.434114Z",
     "start_time": "2019-02-22T18:50:18.429031Z"
    }
   },
   "outputs": [],
   "source": [
    "import os"
   ]
  },
  {
   "cell_type": "code",
   "execution_count": 23,
   "metadata": {
    "ExecuteTime": {
     "end_time": "2019-02-22T18:51:05.303581Z",
     "start_time": "2019-02-22T18:51:05.295194Z"
    }
   },
   "outputs": [
    {
     "data": {
      "text/plain": [
       "'../../data/processed/starling/CT.img'"
      ]
     },
     "execution_count": 23,
     "metadata": {},
     "output_type": "execute_result"
    }
   ],
   "source": []
  },
  {
   "cell_type": "code",
   "execution_count": 24,
   "metadata": {
    "ExecuteTime": {
     "end_time": "2019-02-22T18:51:13.661691Z",
     "start_time": "2019-02-22T18:51:13.648294Z"
    }
   },
   "outputs": [],
   "source": [
    "for img_file in np.concatenate([glob(dl_output+'ATLAS_starling/*.'+ed) for ed in ['img', 'hdr']]):\n",
    "    shutil.move(img_file, img_output + os.path.basename(img_file))"
   ]
  },
  {
   "cell_type": "code",
   "execution_count": 25,
   "metadata": {
    "ExecuteTime": {
     "end_time": "2019-02-22T18:51:26.794366Z",
     "start_time": "2019-02-22T18:51:26.767809Z"
    }
   },
   "outputs": [],
   "source": [
    "# move delineations files\n",
    "\n",
    "for img_file in np.concatenate([glob(dl_output+'ATLAS_starling/delineations/*.'+ed) for ed in ['img', 'hdr']]):\n",
    "    shutil.move(img_file, img_output + 'delineations/' + os.path.basename(img_file))"
   ]
  },
  {
   "cell_type": "code",
   "execution_count": 8,
   "metadata": {
    "ExecuteTime": {
     "end_time": "2019-02-22T18:46:30.403470Z",
     "start_time": "2019-02-22T18:46:30.398665Z"
    }
   },
   "outputs": [],
   "source": [
    "import zipfile"
   ]
  },
  {
   "cell_type": "code",
   "execution_count": 9,
   "metadata": {
    "ExecuteTime": {
     "end_time": "2019-02-22T18:46:39.885371Z",
     "start_time": "2019-02-22T18:46:30.774564Z"
    }
   },
   "outputs": [],
   "source": [
    "archive = zipfile.ZipFile(zip_loc)\n",
    "\n",
    "for file in archive.namelist():\n",
    "    if file.startswith('ATLAS_starling/'):\n",
    "        archive.extract(file, img_output)"
   ]
  },
  {
   "cell_type": "code",
   "execution_count": 57,
   "metadata": {
    "ExecuteTime": {
     "end_time": "2019-02-22T18:42:00.698526Z",
     "start_time": "2019-02-22T18:42:00.568787Z"
    }
   },
   "outputs": [
    {
     "name": "stdout",
     "output_type": "stream",
     "text": [
      "CT.hdr\tdelineations  PD.img  T2.img\t     T2star_HR.img\r\n",
      "CT.img\tPD.hdr\t      T2.hdr  T2star_HR.hdr\r\n"
     ]
    }
   ],
   "source": [
    "!ls ../../data/raw/starling/ATLAS_starling/"
   ]
  },
  {
   "cell_type": "code",
   "execution_count": null,
   "metadata": {},
   "outputs": [],
   "source": []
  }
 ],
 "metadata": {
  "kernelspec": {
   "display_name": "Python 3",
   "language": "python",
   "name": "python3"
  },
  "language_info": {
   "codemirror_mode": {
    "name": "ipython",
    "version": 3
   },
   "file_extension": ".py",
   "mimetype": "text/x-python",
   "name": "python",
   "nbconvert_exporter": "python",
   "pygments_lexer": "ipython3",
   "version": "3.6.8"
  }
 },
 "nbformat": 4,
 "nbformat_minor": 2
}
