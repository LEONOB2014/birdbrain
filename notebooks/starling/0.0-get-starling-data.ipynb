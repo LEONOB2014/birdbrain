{
 "cells": [
  {
   "cell_type": "code",
   "execution_count": 1,
   "metadata": {
    "ExecuteTime": {
     "end_time": "2019-02-21T00:03:29.603728Z",
     "start_time": "2019-02-21T00:03:29.597820Z"
    }
   },
   "outputs": [],
   "source": [
    "import os\n",
    "import shutil\n",
    "from glob import glob"
   ]
  },
  {
   "cell_type": "markdown",
   "metadata": {},
   "source": [
    "### Make the data directory"
   ]
  },
  {
   "cell_type": "code",
   "execution_count": 2,
   "metadata": {
    "ExecuteTime": {
     "end_time": "2019-02-21T00:03:30.673549Z",
     "start_time": "2019-02-21T00:03:30.440408Z"
    }
   },
   "outputs": [],
   "source": [
    "# for raw data download\n",
    "!mkdir -p ../../data/raw/starling/\n",
    "# for processed data to be moved to\n",
    "!mkdir -p ../../data/processed/starling/delineations/"
   ]
  },
  {
   "cell_type": "markdown",
   "metadata": {},
   "source": [
    "### Download the atlas"
   ]
  },
  {
   "cell_type": "code",
   "execution_count": 3,
   "metadata": {
    "ExecuteTime": {
     "end_time": "2019-02-21T00:03:56.011734Z",
     "start_time": "2019-02-21T00:03:31.718792Z"
    }
   },
   "outputs": [
    {
     "name": "stdout",
     "output_type": "stream",
     "text": [
      "--2019-02-20 16:03:31--  http://uahost.uantwerpen.be/bioimaginglab/starling.zip\n",
      "Resolving dsspublic.ucsd.edu (dsspublic.ucsd.edu)... 132.239.147.118\n",
      "Connecting to dsspublic.ucsd.edu (dsspublic.ucsd.edu)|132.239.147.118|:3128... connected.\n",
      "Proxy request sent, awaiting response... 200 OK\n",
      "Length: 296499157 (283M) [application/x-zip-compressed]\n",
      "Saving to: ‘../../data/raw/starling/starling.zip’\n",
      "\n",
      "../../data/raw/star 100%[===================>] 282.76M  15.1MB/s    in 22s     \n",
      "\n",
      "2019-02-20 16:03:55 (12.6 MB/s) - ‘../../data/raw/starling/starling.zip’ saved [296499157/296499157]\n",
      "\n"
     ]
    }
   ],
   "source": [
    "!wget http://uahost.uantwerpen.be/bioimaginglab/starling.zip -O ../../data/raw/starling/starling.zip"
   ]
  },
  {
   "cell_type": "markdown",
   "metadata": {},
   "source": [
    "### Unzip the data"
   ]
  },
  {
   "cell_type": "code",
   "execution_count": 4,
   "metadata": {
    "ExecuteTime": {
     "end_time": "2019-02-21T00:04:08.698877Z",
     "start_time": "2019-02-21T00:03:59.092500Z"
    }
   },
   "outputs": [
    {
     "name": "stdout",
     "output_type": "stream",
     "text": [
      "Archive:  ../../data/raw/starling/starling.zip\n",
      "   creating: ../../data/raw/starling/ATLAS_starling/\n",
      "  inflating: ../../data/raw/starling/ATLAS_starling/.DS_Store  \n",
      "   creating: ../../data/raw/starling/__MACOSX/\n",
      "   creating: ../../data/raw/starling/__MACOSX/ATLAS_starling/\n",
      "  inflating: ../../data/raw/starling/__MACOSX/ATLAS_starling/._.DS_Store  \n",
      "  inflating: ../../data/raw/starling/ATLAS_starling/CT.hdr  \n",
      "  inflating: ../../data/raw/starling/ATLAS_starling/CT.img  \n",
      "   creating: ../../data/raw/starling/ATLAS_starling/delineations/\n",
      "  inflating: ../../data/raw/starling/ATLAS_starling/delineations/.DS_Store  \n",
      "   creating: ../../data/raw/starling/__MACOSX/ATLAS_starling/delineations/\n",
      "  inflating: ../../data/raw/starling/__MACOSX/ATLAS_starling/delineations/._.DS_Store  \n",
      "  inflating: ../../data/raw/starling/ATLAS_starling/delineations/Brain.am  \n",
      "  inflating: ../../data/raw/starling/ATLAS_starling/delineations/Brain.hdr  \n",
      "  inflating: ../../data/raw/starling/ATLAS_starling/delineations/Brain.img  \n",
      "  inflating: ../../data/raw/starling/ATLAS_starling/delineations/Brainregions.am  \n",
      "  inflating: ../../data/raw/starling/ATLAS_starling/delineations/Brainregions.hdr  \n",
      "  inflating: ../../data/raw/starling/ATLAS_starling/delineations/Brainregions.img  \n",
      "  inflating: ../../data/raw/starling/ATLAS_starling/delineations/Brainregions.txt  \n",
      "  inflating: ../../data/raw/starling/ATLAS_starling/delineations/Nuclei.am  \n",
      "  inflating: ../../data/raw/starling/ATLAS_starling/delineations/Nuclei.hdr  \n",
      "  inflating: ../../data/raw/starling/ATLAS_starling/delineations/Nuclei.img  \n",
      "  inflating: ../../data/raw/starling/ATLAS_starling/delineations/Nuclei.txt  \n",
      "  inflating: ../../data/raw/starling/ATLAS_starling/delineations/Tracts.am  \n",
      "  inflating: ../../data/raw/starling/ATLAS_starling/delineations/Tracts.hdr  \n",
      "  inflating: ../../data/raw/starling/ATLAS_starling/delineations/Tracts.img  \n",
      "  inflating: ../../data/raw/starling/ATLAS_starling/delineations/Tracts.txt  \n",
      "  inflating: ../../data/raw/starling/ATLAS_starling/delineations/Ventricle.am  \n",
      "  inflating: ../../data/raw/starling/ATLAS_starling/delineations/Ventricle.hdr  \n",
      "  inflating: ../../data/raw/starling/ATLAS_starling/delineations/Ventricle.img  \n",
      "  inflating: ../../data/raw/starling/ATLAS_starling/PD.hdr  \n",
      "  inflating: ../../data/raw/starling/ATLAS_starling/PD.img  \n",
      "  inflating: ../../data/raw/starling/ATLAS_starling/T2.hdr  \n",
      "  inflating: ../../data/raw/starling/ATLAS_starling/T2.img  \n",
      "  inflating: ../../data/raw/starling/ATLAS_starling/T2star_HR.hdr  \n",
      "  inflating: ../../data/raw/starling/ATLAS_starling/T2star_HR.img  \n"
     ]
    }
   ],
   "source": [
    "!unzip ../../data/raw/starling/starling.zip -d ../../data/raw/starling/"
   ]
  },
  {
   "cell_type": "markdown",
   "metadata": {
    "ExecuteTime": {
     "end_time": "2019-02-20T20:46:48.827846Z",
     "start_time": "2019-02-20T20:46:48.708554Z"
    }
   },
   "source": [
    "### move data into reading directory"
   ]
  },
  {
   "cell_type": "code",
   "execution_count": 11,
   "metadata": {
    "ExecuteTime": {
     "end_time": "2019-02-21T00:05:49.350683Z",
     "start_time": "2019-02-21T00:05:49.339358Z"
    }
   },
   "outputs": [
    {
     "data": {
      "text/plain": [
       "['../../data/raw/starling/ATLAS_starling/delineations/Nuclei.txt',\n",
       " '../../data/raw/starling/ATLAS_starling/delineations/Ventricle.am',\n",
       " '../../data/raw/starling/ATLAS_starling/delineations/Nuclei.am',\n",
       " '../../data/raw/starling/ATLAS_starling/delineations/Ventricle.img',\n",
       " '../../data/raw/starling/ATLAS_starling/delineations/Nuclei.hdr',\n",
       " '../../data/raw/starling/ATLAS_starling/delineations/Brain.hdr',\n",
       " '../../data/raw/starling/ATLAS_starling/delineations/Brainregions.img',\n",
       " '../../data/raw/starling/ATLAS_starling/delineations/Tracts.txt',\n",
       " '../../data/raw/starling/ATLAS_starling/delineations/Brain.am',\n",
       " '../../data/raw/starling/ATLAS_starling/delineations/Tracts.hdr',\n",
       " '../../data/raw/starling/ATLAS_starling/delineations/Brainregions.hdr',\n",
       " '../../data/raw/starling/ATLAS_starling/delineations/Brainregions.am',\n",
       " '../../data/raw/starling/ATLAS_starling/delineations/Brainregions.txt',\n",
       " '../../data/raw/starling/ATLAS_starling/delineations/Tracts.img',\n",
       " '../../data/raw/starling/ATLAS_starling/delineations/Tracts.am',\n",
       " '../../data/raw/starling/ATLAS_starling/delineations/Brain.img',\n",
       " '../../data/raw/starling/ATLAS_starling/delineations/Nuclei.img',\n",
       " '../../data/raw/starling/ATLAS_starling/delineations/Ventricle.hdr']"
      ]
     },
     "execution_count": 11,
     "metadata": {},
     "output_type": "execute_result"
    }
   ],
   "source": [
    "glob('../../data/raw/starling/ATLAS_starling/delineations/*')"
   ]
  },
  {
   "cell_type": "code",
   "execution_count": 29,
   "metadata": {
    "ExecuteTime": {
     "end_time": "2019-02-21T00:11:20.288457Z",
     "start_time": "2019-02-21T00:11:20.278141Z"
    }
   },
   "outputs": [
    {
     "data": {
      "text/plain": [
       "['../../data/raw/starling/ATLAS_starling/delineations/Nuclei.txt',\n",
       " '../../data/raw/starling/ATLAS_starling/delineations/Tracts.txt',\n",
       " '../../data/raw/starling/ATLAS_starling/delineations/Brainregions.txt',\n",
       " '../../data/raw/starling/ATLAS_starling/delineations/Nuclei.hdr',\n",
       " '../../data/raw/starling/ATLAS_starling/delineations/Brain.hdr',\n",
       " '../../data/raw/starling/ATLAS_starling/delineations/Tracts.hdr',\n",
       " '../../data/raw/starling/ATLAS_starling/delineations/Brainregions.hdr',\n",
       " '../../data/raw/starling/ATLAS_starling/delineations/Ventricle.hdr',\n",
       " '../../data/raw/starling/ATLAS_starling/delineations/Ventricle.img',\n",
       " '../../data/raw/starling/ATLAS_starling/delineations/Brainregions.img',\n",
       " '../../data/raw/starling/ATLAS_starling/delineations/Tracts.img',\n",
       " '../../data/raw/starling/ATLAS_starling/delineations/Brain.img',\n",
       " '../../data/raw/starling/ATLAS_starling/delineations/Nuclei.img']"
      ]
     },
     "execution_count": 29,
     "metadata": {},
     "output_type": "execute_result"
    }
   ],
   "source": [
    "delineation_data = sum((([glob('../../data/raw/starling/ATLAS_starling/delineations/*.'+ft) for ft in ['txt', 'hdr', 'img']])), [])\n",
    "delineation_data"
   ]
  },
  {
   "cell_type": "code",
   "execution_count": 39,
   "metadata": {
    "ExecuteTime": {
     "end_time": "2019-02-21T00:13:02.289595Z",
     "start_time": "2019-02-21T00:13:02.274372Z"
    }
   },
   "outputs": [],
   "source": [
    "# move the delineation files\n",
    "for img in delineation_data:\n",
    "    shutil.move(img, '../../data/processed/starling/delineations/'+os.path.basename(img))"
   ]
  },
  {
   "cell_type": "code",
   "execution_count": 40,
   "metadata": {
    "ExecuteTime": {
     "end_time": "2019-02-21T00:13:03.986165Z",
     "start_time": "2019-02-21T00:13:03.975850Z"
    }
   },
   "outputs": [
    {
     "data": {
      "text/plain": [
       "[]"
      ]
     },
     "execution_count": 40,
     "metadata": {},
     "output_type": "execute_result"
    }
   ],
   "source": [
    "img_data = sum((([glob('../../data/raw/starling/ATLAS_starling/*.'+ft) for ft in ['txt', 'hdr', 'img']])), [])\n",
    "img_data"
   ]
  },
  {
   "cell_type": "code",
   "execution_count": 41,
   "metadata": {
    "ExecuteTime": {
     "end_time": "2019-02-21T00:13:04.494303Z",
     "start_time": "2019-02-21T00:13:04.488555Z"
    }
   },
   "outputs": [],
   "source": [
    "# move the delineation files\n",
    "for img in img_data:\n",
    "    shutil.move(img, '../../data/processed/starling/'+os.path.basename(img))"
   ]
  },
  {
   "cell_type": "code",
   "execution_count": 42,
   "metadata": {
    "ExecuteTime": {
     "end_time": "2019-02-21T00:13:04.991714Z",
     "start_time": "2019-02-21T00:13:04.983359Z"
    }
   },
   "outputs": [
    {
     "data": {
      "text/plain": [
       "'../../data/processed/starling/Nuclei.img'"
      ]
     },
     "execution_count": 42,
     "metadata": {},
     "output_type": "execute_result"
    }
   ],
   "source": [
    "'../../data/processed/starling/'+os.path.basename(img)"
   ]
  },
  {
   "cell_type": "code",
   "execution_count": null,
   "metadata": {},
   "outputs": [],
   "source": []
  }
 ],
 "metadata": {
  "kernelspec": {
   "display_name": "Python 3",
   "language": "python",
   "name": "python3"
  },
  "language_info": {
   "codemirror_mode": {
    "name": "ipython",
    "version": 3
   },
   "file_extension": ".py",
   "mimetype": "text/x-python",
   "name": "python",
   "nbconvert_exporter": "python",
   "pygments_lexer": "ipython3",
   "version": "3.6.8"
  }
 },
 "nbformat": 4,
 "nbformat_minor": 2
}
