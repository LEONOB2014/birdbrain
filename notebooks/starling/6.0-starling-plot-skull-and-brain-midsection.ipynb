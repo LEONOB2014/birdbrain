{
 "cells": [
  {
   "cell_type": "code",
   "execution_count": 1,
   "metadata": {
    "ExecuteTime": {
     "end_time": "2019-02-26T05:11:18.986020Z",
     "start_time": "2019-02-26T05:11:18.958745Z"
    }
   },
   "outputs": [],
   "source": [
    "%load_ext autoreload\n",
    "%autoreload 2"
   ]
  },
  {
   "cell_type": "code",
   "execution_count": 2,
   "metadata": {
    "ExecuteTime": {
     "end_time": "2019-02-26T05:11:23.077645Z",
     "start_time": "2019-02-26T05:11:18.988502Z"
    }
   },
   "outputs": [
    {
     "name": "stderr",
     "output_type": "stream",
     "text": [
      "/mnt/cube/tsainbur/conda_envs/tpy3/lib/python3.6/site-packages/tqdm/autonotebook/__init__.py:14: TqdmExperimentalWarning: Using `tqdm.autonotebook.tqdm` in notebook mode. Use `tqdm.tqdm` instead to force console mode (e.g. in jupyter console)\n",
      "  \" (e.g. in jupyter console)\", TqdmExperimentalWarning)\n"
     ]
    }
   ],
   "source": [
    "from birdbrain.atlas import atlas\n",
    "from birdbrain.utils import um_to_vox\n",
    "import numpy as np\n",
    "from birdbrain.visualization.plotting_3d import plot_regions_3d"
   ]
  },
  {
   "cell_type": "code",
   "execution_count": 3,
   "metadata": {
    "ExecuteTime": {
     "end_time": "2019-02-26T05:11:49.031618Z",
     "start_time": "2019-02-26T05:11:23.079785Z"
    }
   },
   "outputs": [
    {
     "name": "stderr",
     "output_type": "stream",
     "text": [
      "qform_code 32 not valid; setting to 0\n",
      "qform_code 32 not valid; setting to 0\n"
     ]
    },
    {
     "name": "stdout",
     "output_type": "stream",
     "text": [
      "Data already download\n",
      "Loading brain labels...\n",
      "Getting voxel data from .img files...\n"
     ]
    },
    {
     "name": "stderr",
     "output_type": "stream",
     "text": [
      "qform_code 32 not valid; setting to 0\n",
      "qform_code 32 not valid; setting to 0\n"
     ]
    },
    {
     "data": {
      "application/vnd.jupyter.widget-view+json": {
       "model_id": "",
       "version_major": 2,
       "version_minor": 0
      },
      "text/plain": [
       "HBox(children=(IntProgress(value=0, max=1), HTML(value='')))"
      ]
     },
     "metadata": {},
     "output_type": "display_data"
    },
    {
     "name": "stdout",
     "output_type": "stream",
     "text": [
      "\r"
     ]
    },
    {
     "data": {
      "application/vnd.jupyter.widget-view+json": {
       "model_id": "",
       "version_major": 2,
       "version_minor": 0
      },
      "text/plain": [
       "HBox(children=(IntProgress(value=0, max=22), HTML(value='')))"
      ]
     },
     "metadata": {},
     "output_type": "display_data"
    },
    {
     "name": "stdout",
     "output_type": "stream",
     "text": [
      "\r"
     ]
    },
    {
     "data": {
      "application/vnd.jupyter.widget-view+json": {
       "model_id": "",
       "version_major": 2,
       "version_minor": 0
      },
      "text/plain": [
       "HBox(children=(IntProgress(value=0, max=12), HTML(value='')))"
      ]
     },
     "metadata": {},
     "output_type": "display_data"
    },
    {
     "name": "stdout",
     "output_type": "stream",
     "text": [
      "\r",
      "Getting location for each nucleus/region from voxel data...\n"
     ]
    },
    {
     "data": {
      "application/vnd.jupyter.widget-view+json": {
       "model_id": "",
       "version_major": 2,
       "version_minor": 0
      },
      "text/plain": [
       "HBox(children=(IntProgress(value=0, max=45), HTML(value='')))"
      ]
     },
     "metadata": {},
     "output_type": "display_data"
    },
    {
     "name": "stdout",
     "output_type": "stream",
     "text": [
      "\r",
      "Atlas created\n"
     ]
    }
   ],
   "source": [
    "dset_dir = '../../data/processed/starling/'\n",
    "\n",
    "starling_atlas = atlas(\n",
    "    species = 'starling',\n",
    "    dset_dir = dset_dir,\n",
    "    um_mult = 100,\n",
    "    smoothing = ['Brain', 'Nuclei', 'Tracts'],\n",
    "    updated_y_sinus = [0, 1500, 0]\n",
    ")"
   ]
  },
  {
   "cell_type": "code",
   "execution_count": 4,
   "metadata": {
    "ExecuteTime": {
     "end_time": "2019-02-26T05:11:49.324443Z",
     "start_time": "2019-02-26T05:11:49.034207Z"
    }
   },
   "outputs": [],
   "source": [
    "tracts = [[reg, 'Tracts'] for reg in list(starling_atlas.brain_labels[starling_atlas.brain_labels.type_ == 'Tracts'].region.values)]\n",
    "nuclei = [[reg, 'Nuclei'] for reg in list(starling_atlas.brain_labels[starling_atlas.brain_labels.type_ == 'Nuclei'].region.values)]\n",
    "brain_regions = [[reg, 'Brainregions'] for reg in list(starling_atlas.brain_labels[starling_atlas.brain_labels.type_ == 'Brainregions'].region.values)]"
   ]
  },
  {
   "cell_type": "code",
   "execution_count": 5,
   "metadata": {
    "ExecuteTime": {
     "end_time": "2019-02-26T05:11:49.431952Z",
     "start_time": "2019-02-26T05:11:49.328358Z"
    }
   },
   "outputs": [
    {
     "data": {
      "text/plain": [
       "Index(['Brain', 'Ventricle', 'Nuclei', 'Brainregions', 'Tracts', 'T2star_hr',\n",
       "       'Ct', 'T2', 'Pd'],\n",
       "      dtype='object')"
      ]
     },
     "execution_count": 5,
     "metadata": {},
     "output_type": "execute_result"
    }
   ],
   "source": [
    "starling_atlas.voxel_data.index"
   ]
  },
  {
   "cell_type": "code",
   "execution_count": 6,
   "metadata": {
    "ExecuteTime": {
     "end_time": "2019-02-26T05:11:49.517949Z",
     "start_time": "2019-02-26T05:11:49.435249Z"
    }
   },
   "outputs": [
    {
     "data": {
      "text/plain": [
       "[['Field_L', 'Nuclei'], ['NCM', 'Nuclei'], ['Ov', 'Nuclei']]"
      ]
     },
     "execution_count": 6,
     "metadata": {},
     "output_type": "execute_result"
    }
   ],
   "source": [
    "nuclei[:3]"
   ]
  },
  {
   "cell_type": "code",
   "execution_count": 8,
   "metadata": {
    "ExecuteTime": {
     "end_time": "2019-02-26T05:15:10.915400Z",
     "start_time": "2019-02-26T05:14:17.212593Z"
    },
    "scrolled": false
   },
   "outputs": [
    {
     "data": {
      "application/vnd.jupyter.widget-view+json": {
       "model_id": "",
       "version_major": 2,
       "version_minor": 0
      },
      "text/plain": [
       "HBox(children=(IntProgress(value=0, max=22), HTML(value='')))"
      ]
     },
     "metadata": {},
     "output_type": "display_data"
    },
    {
     "name": "stdout",
     "output_type": "stream",
     "text": [
      "(256, 256, 256) [0, 84.6640625, 0, 84.6640625, 0, 84.6640625] 10515\n",
      "(256, 256, 256) [0, 84.6640625, 0, 84.6640625, 0, 84.6640625] 26881\n",
      "(256, 256, 256) [0, 84.6640625, 0, 84.6640625, 0, 84.6640625] 552\n",
      "(256, 256, 256) [0, 84.6640625, 0, 84.6640625, 0, 84.6640625] 1644\n",
      "(256, 256, 256) [0, 84.6640625, 0, 84.6640625, 0, 84.6640625] 6337\n",
      "(256, 256, 256) [0, 84.6640625, 0, 84.6640625, 0, 84.6640625] 117065\n",
      "(256, 256, 256) [0, 84.6640625, 0, 84.6640625, 0, 84.6640625] 22171\n",
      "(256, 256, 256) [0, 84.6640625, 0, 84.6640625, 0, 84.6640625] 563\n",
      "(256, 256, 256) [0, 84.6640625, 0, 84.6640625, 0, 84.6640625] 15276\n",
      "(256, 256, 256) [0, 84.6640625, 0, 84.6640625, 0, 84.6640625] 24235\n",
      "(256, 256, 256) [0, 84.6640625, 0, 84.6640625, 0, 84.6640625] 2647\n",
      "(256, 256, 256) [0, 84.6640625, 0, 84.6640625, 0, 84.6640625] 764\n",
      "(256, 256, 256) [0, 84.6640625, 0, 84.6640625, 0, 84.6640625] 2290\n",
      "(256, 256, 256) [0, 84.6640625, 0, 84.6640625, 0, 84.6640625] 2219\n",
      "(256, 256, 256) [0, 84.6640625, 0, 84.6640625, 0, 84.6640625] 760\n",
      "(256, 256, 256) [0, 84.6640625, 0, 84.6640625, 0, 84.6640625] 4082\n",
      "(256, 256, 256) [0, 84.6640625, 0, 84.6640625, 0, 84.6640625] 663\n",
      "(256, 256, 256) [0, 84.6640625, 0, 84.6640625, 0, 84.6640625] 844\n",
      "(256, 256, 256) [0, 84.6640625, 0, 84.6640625, 0, 84.6640625] 772\n",
      "(256, 256, 256) [0, 84.6640625, 0, 84.6640625, 0, 84.6640625] 211\n",
      "(256, 256, 256) [0, 84.6640625, 0, 84.6640625, 0, 84.6640625] 97\n",
      "(256, 256, 256) [0, 84.6640625, 0, 84.6640625, 0, 84.6640625] 25\n",
      "\r"
     ]
    },
    {
     "data": {
      "application/vnd.jupyter.widget-view+json": {
       "model_id": "027206f1dc874eeaadf6087288ac6bc3",
       "version_major": 2,
       "version_minor": 0
      },
      "text/plain": [
       "Output()"
      ]
     },
     "metadata": {},
     "output_type": "display_data"
    },
    {
     "data": {
      "application/vnd.jupyter.widget-view+json": {
       "model_id": "1848cd5dbfb04fe6bc9c560aaba1343e",
       "version_major": 2,
       "version_minor": 0
      },
      "text/plain": [
       "FloatSlider(value=0.0, description='medial-lateral:', max=10937.0, min=-10737.0, step=100.0)"
      ]
     },
     "metadata": {},
     "output_type": "display_data"
    },
    {
     "data": {
      "application/vnd.jupyter.widget-view+json": {
       "model_id": "64c3f6484e1b4987abc067924661b0ec",
       "version_major": 2,
       "version_minor": 0
      },
      "text/plain": [
       "FloatSlider(value=0.0, description='posterior-anterior:', max=13337.0, min=-8337.0, step=100.0)"
      ]
     },
     "metadata": {},
     "output_type": "display_data"
    },
    {
     "data": {
      "application/vnd.jupyter.widget-view+json": {
       "model_id": "61a8d5a226bb432e82acf861b7957182",
       "version_major": 2,
       "version_minor": 0
      },
      "text/plain": [
       "FloatSlider(value=0.0, description='ventral-dorsal:', max=4237.0, min=-17437.0, step=100.0)"
      ]
     },
     "metadata": {},
     "output_type": "display_data"
    },
    {
     "data": {
      "application/vnd.jupyter.widget-view+json": {
       "model_id": "b742525498524dc99b36a8344cb9c709",
       "version_major": 2,
       "version_minor": 0
      },
      "text/plain": [
       "Dropdown(description='Region:', index=22, options=('Field_L', 'NCM', 'Ov', 'MLd', 'CMM', 'TeO', 'Entopallium',…"
      ]
     },
     "metadata": {},
     "output_type": "display_data"
    }
   ],
   "source": [
    "plot, vec  = plot_regions_3d(starling_atlas, regions_to_plot = nuclei, downsample_pct = 1,\n",
    "                             polygon_simplification = 0,\n",
    "                             additional_volumes = ['Ct'],\n",
    "                             verbose=False)\n",
    "\n",
    "# add a clipping plane to only show half the brain/skull\n",
    "plot.clipping_planes = [[1,0,0, 0]]"
   ]
  },
  {
   "cell_type": "code",
   "execution_count": null,
   "metadata": {},
   "outputs": [],
   "source": []
  }
 ],
 "metadata": {
  "kernelspec": {
   "display_name": "Python 3",
   "language": "python",
   "name": "python3"
  },
  "language_info": {
   "codemirror_mode": {
    "name": "ipython",
    "version": 3
   },
   "file_extension": ".py",
   "mimetype": "text/x-python",
   "name": "python",
   "nbconvert_exporter": "python",
   "pygments_lexer": "ipython3",
   "version": "3.6.8"
  }
 },
 "nbformat": 4,
 "nbformat_minor": 2
}
