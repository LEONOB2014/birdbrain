{
 "cells": [
  {
   "cell_type": "code",
   "execution_count": 8,
   "metadata": {
    "ExecuteTime": {
     "end_time": "2019-02-26T03:38:37.988056Z",
     "start_time": "2019-02-26T03:38:37.865142Z"
    }
   },
   "outputs": [
    {
     "name": "stdout",
     "output_type": "stream",
     "text": [
      "The autoreload extension is already loaded. To reload it, use:\n",
      "  %reload_ext autoreload\n"
     ]
    }
   ],
   "source": [
    "%load_ext autoreload\n",
    "%autoreload 2"
   ]
  },
  {
   "cell_type": "code",
   "execution_count": 6,
   "metadata": {
    "ExecuteTime": {
     "end_time": "2019-02-26T03:38:11.901410Z",
     "start_time": "2019-02-26T03:38:08.688629Z"
    }
   },
   "outputs": [
    {
     "name": "stderr",
     "output_type": "stream",
     "text": [
      "/mnt/cube/tsainbur/conda_envs/tpy3/lib/python3.6/site-packages/tqdm/autonotebook/__init__.py:14: TqdmExperimentalWarning: Using `tqdm.autonotebook.tqdm` in notebook mode. Use `tqdm.tqdm` instead to force console mode (e.g. in jupyter console)\n",
      "  \" (e.g. in jupyter console)\", TqdmExperimentalWarning)\n"
     ]
    }
   ],
   "source": [
    "from birdbrain.atlas import atlas\n",
    "from birdbrain.utils import um_to_vox\n",
    "import numpy as np\n",
    "from birdbrain.visualization.plotting_3d import plot_regions_3d"
   ]
  },
  {
   "cell_type": "code",
   "execution_count": 7,
   "metadata": {
    "ExecuteTime": {
     "end_time": "2019-02-26T03:38:37.861068Z",
     "start_time": "2019-02-26T03:38:11.903985Z"
    }
   },
   "outputs": [
    {
     "name": "stderr",
     "output_type": "stream",
     "text": [
      "qform_code 32 not valid; setting to 0\n",
      "qform_code 32 not valid; setting to 0\n"
     ]
    },
    {
     "name": "stdout",
     "output_type": "stream",
     "text": [
      "Data already download\n",
      "Loading brain labels...\n",
      "Getting voxel data from .img files...\n"
     ]
    },
    {
     "name": "stderr",
     "output_type": "stream",
     "text": [
      "qform_code 32 not valid; setting to 0\n",
      "qform_code 32 not valid; setting to 0\n"
     ]
    },
    {
     "data": {
      "application/vnd.jupyter.widget-view+json": {
       "model_id": "",
       "version_major": 2,
       "version_minor": 0
      },
      "text/plain": [
       "HBox(children=(IntProgress(value=0, max=1), HTML(value='')))"
      ]
     },
     "metadata": {},
     "output_type": "display_data"
    },
    {
     "name": "stdout",
     "output_type": "stream",
     "text": [
      "\r"
     ]
    },
    {
     "data": {
      "application/vnd.jupyter.widget-view+json": {
       "model_id": "",
       "version_major": 2,
       "version_minor": 0
      },
      "text/plain": [
       "HBox(children=(IntProgress(value=0, max=22), HTML(value='')))"
      ]
     },
     "metadata": {},
     "output_type": "display_data"
    },
    {
     "name": "stdout",
     "output_type": "stream",
     "text": [
      "\r"
     ]
    },
    {
     "data": {
      "application/vnd.jupyter.widget-view+json": {
       "model_id": "",
       "version_major": 2,
       "version_minor": 0
      },
      "text/plain": [
       "HBox(children=(IntProgress(value=0, max=12), HTML(value='')))"
      ]
     },
     "metadata": {},
     "output_type": "display_data"
    },
    {
     "name": "stdout",
     "output_type": "stream",
     "text": [
      "\r",
      "Getting location for each nucleus/region from voxel data...\n"
     ]
    },
    {
     "data": {
      "application/vnd.jupyter.widget-view+json": {
       "model_id": "",
       "version_major": 2,
       "version_minor": 0
      },
      "text/plain": [
       "HBox(children=(IntProgress(value=0, max=45), HTML(value='')))"
      ]
     },
     "metadata": {},
     "output_type": "display_data"
    },
    {
     "name": "stdout",
     "output_type": "stream",
     "text": [
      "\r",
      "Atlas created\n"
     ]
    }
   ],
   "source": [
    "dset_dir = '../../data/processed/starling/'\n",
    "\n",
    "starling_atlas = atlas(\n",
    "    species = 'starling',\n",
    "    dset_dir = dset_dir,\n",
    "    um_mult = 100,\n",
    "    smoothing = ['Brain', 'Nuclei', 'Tracts'],\n",
    "    updated_y_sinus = [0, 1500, 0]\n",
    ")"
   ]
  },
  {
   "cell_type": "code",
   "execution_count": 9,
   "metadata": {
    "ExecuteTime": {
     "end_time": "2019-02-26T03:38:38.078171Z",
     "start_time": "2019-02-26T03:38:37.990561Z"
    }
   },
   "outputs": [],
   "source": [
    "tracts = [[reg, 'Tracts'] for reg in list(starling_atlas.brain_labels[starling_atlas.brain_labels.type_ == 'Tracts'].region.values)]\n",
    "nuclei = [[reg, 'Nuclei'] for reg in list(starling_atlas.brain_labels[starling_atlas.brain_labels.type_ == 'Nuclei'].region.values)]\n",
    "brain_regions = [[reg, 'Brainregions'] for reg in list(starling_atlas.brain_labels[starling_atlas.brain_labels.type_ == 'Brainregions'].region.values)]"
   ]
  },
  {
   "cell_type": "code",
   "execution_count": 10,
   "metadata": {
    "ExecuteTime": {
     "end_time": "2019-02-26T03:38:38.166926Z",
     "start_time": "2019-02-26T03:38:38.080124Z"
    }
   },
   "outputs": [
    {
     "data": {
      "text/plain": [
       "Index(['Brain', 'Ventricle', 'Nuclei', 'Brainregions', 'Tracts', 'T2star_hr',\n",
       "       'Ct', 'T2', 'Pd'],\n",
       "      dtype='object')"
      ]
     },
     "execution_count": 10,
     "metadata": {},
     "output_type": "execute_result"
    }
   ],
   "source": [
    "starling_atlas.voxel_data.index"
   ]
  },
  {
   "cell_type": "code",
   "execution_count": 11,
   "metadata": {
    "ExecuteTime": {
     "end_time": "2019-02-26T03:38:38.256228Z",
     "start_time": "2019-02-26T03:38:38.168627Z"
    }
   },
   "outputs": [
    {
     "data": {
      "text/plain": [
       "[['Field_L', 'Nuclei'], ['NCM', 'Nuclei'], ['Ov', 'Nuclei']]"
      ]
     },
     "execution_count": 11,
     "metadata": {},
     "output_type": "execute_result"
    }
   ],
   "source": [
    "nuclei[:3]"
   ]
  },
  {
   "cell_type": "code",
   "execution_count": 12,
   "metadata": {
    "ExecuteTime": {
     "end_time": "2019-02-26T03:39:32.338698Z",
     "start_time": "2019-02-26T03:38:38.257957Z"
    }
   },
   "outputs": [
    {
     "name": "stderr",
     "output_type": "stream",
     "text": [
      "/mnt/cube/tsainbur/conda_envs/tpy3/lib/python3.6/site-packages/traittypes/traittypes.py:101: UserWarning: Given trait value dtype \"uint8\" does not match required type \"float32\". A coerced copy has been created.\n",
      "  np.dtype(self.dtype).name))\n"
     ]
    },
    {
     "data": {
      "application/vnd.jupyter.widget-view+json": {
       "model_id": "",
       "version_major": 2,
       "version_minor": 0
      },
      "text/plain": [
       "HBox(children=(IntProgress(value=0, max=22), HTML(value='')))"
      ]
     },
     "metadata": {},
     "output_type": "display_data"
    },
    {
     "name": "stdout",
     "output_type": "stream",
     "text": [
      "(256, 256, 256) [0, 84.6640625, 0, 84.6640625, 0, 84.6640625] 10515\n",
      "(256, 256, 256) [0, 84.6640625, 0, 84.6640625, 0, 84.6640625] 26881\n",
      "(256, 256, 256) [0, 84.6640625, 0, 84.6640625, 0, 84.6640625] 552\n",
      "(256, 256, 256) [0, 84.6640625, 0, 84.6640625, 0, 84.6640625] 1644\n",
      "(256, 256, 256) [0, 84.6640625, 0, 84.6640625, 0, 84.6640625] 6337\n",
      "(256, 256, 256) [0, 84.6640625, 0, 84.6640625, 0, 84.6640625] 117065\n",
      "(256, 256, 256) [0, 84.6640625, 0, 84.6640625, 0, 84.6640625] 22171\n",
      "(256, 256, 256) [0, 84.6640625, 0, 84.6640625, 0, 84.6640625] 563\n",
      "(256, 256, 256) [0, 84.6640625, 0, 84.6640625, 0, 84.6640625] 15276\n",
      "(256, 256, 256) [0, 84.6640625, 0, 84.6640625, 0, 84.6640625] 24235\n",
      "(256, 256, 256) [0, 84.6640625, 0, 84.6640625, 0, 84.6640625] 2647\n",
      "(256, 256, 256) [0, 84.6640625, 0, 84.6640625, 0, 84.6640625] 764\n",
      "(256, 256, 256) [0, 84.6640625, 0, 84.6640625, 0, 84.6640625] 2290\n",
      "(256, 256, 256) [0, 84.6640625, 0, 84.6640625, 0, 84.6640625] 2219\n",
      "(256, 256, 256) [0, 84.6640625, 0, 84.6640625, 0, 84.6640625] 760\n",
      "(256, 256, 256) [0, 84.6640625, 0, 84.6640625, 0, 84.6640625] 4082\n",
      "(256, 256, 256) [0, 84.6640625, 0, 84.6640625, 0, 84.6640625] 663\n",
      "(256, 256, 256) [0, 84.6640625, 0, 84.6640625, 0, 84.6640625] 844\n",
      "(256, 256, 256) [0, 84.6640625, 0, 84.6640625, 0, 84.6640625] 772\n",
      "(256, 256, 256) [0, 84.6640625, 0, 84.6640625, 0, 84.6640625] 211\n",
      "(256, 256, 256) [0, 84.6640625, 0, 84.6640625, 0, 84.6640625] 97\n",
      "(256, 256, 256) [0, 84.6640625, 0, 84.6640625, 0, 84.6640625] 25\n",
      "\r"
     ]
    },
    {
     "data": {
      "application/vnd.jupyter.widget-view+json": {
       "model_id": "80f1649332e24bd6a118b982839ce007",
       "version_major": 2,
       "version_minor": 0
      },
      "text/plain": [
       "Output()"
      ]
     },
     "metadata": {},
     "output_type": "display_data"
    },
    {
     "data": {
      "application/vnd.jupyter.widget-view+json": {
       "model_id": "85fd063c92fd4ef28b906e7e9fdaea5a",
       "version_major": 2,
       "version_minor": 0
      },
      "text/plain": [
       "FloatSlider(value=0.0, description='medial-lateral:', max=10937.0, min=-10737.0, step=100.0)"
      ]
     },
     "metadata": {},
     "output_type": "display_data"
    },
    {
     "data": {
      "application/vnd.jupyter.widget-view+json": {
       "model_id": "79e1430b624c485f8fd6312962e2fd07",
       "version_major": 2,
       "version_minor": 0
      },
      "text/plain": [
       "FloatSlider(value=0.0, description='posterior-anterior:', max=13337.0, min=-8337.0, step=100.0)"
      ]
     },
     "metadata": {},
     "output_type": "display_data"
    },
    {
     "data": {
      "application/vnd.jupyter.widget-view+json": {
       "model_id": "40372f24d1514035a1582463a02db077",
       "version_major": 2,
       "version_minor": 0
      },
      "text/plain": [
       "FloatSlider(value=0.0, description='ventral-dorsal:', max=4237.0, min=-17437.0, step=100.0)"
      ]
     },
     "metadata": {},
     "output_type": "display_data"
    },
    {
     "data": {
      "application/vnd.jupyter.widget-view+json": {
       "model_id": "5904b416acc1454a9fae9ffbe922984a",
       "version_major": 2,
       "version_minor": 0
      },
      "text/plain": [
       "Dropdown(description='Region:', index=22, options=('Field_L', 'NCM', 'Ov', 'MLd', 'CMM', 'TeO', 'Entopallium',…"
      ]
     },
     "metadata": {},
     "output_type": "display_data"
    }
   ],
   "source": [
    "plot, vec  = plot_regions_3d(starling_atlas, regions_to_plot = nuclei, downsample_pct = 1,\n",
    "                             polygon_simplification = 0,\n",
    "                             additional_volumes = ['Ct'],\n",
    "                             verbose=False)\n",
    "\n",
    "# add a clipping plane to only show half the brain/skull\n",
    "plot.clipping_planes = [[1,0,0, 0]]"
   ]
  },
  {
   "cell_type": "code",
   "execution_count": null,
   "metadata": {},
   "outputs": [],
   "source": []
  }
 ],
 "metadata": {
  "kernelspec": {
   "display_name": "Python 3",
   "language": "python",
   "name": "python3"
  },
  "language_info": {
   "codemirror_mode": {
    "name": "ipython",
    "version": 3
   },
   "file_extension": ".py",
   "mimetype": "text/x-python",
   "name": "python",
   "nbconvert_exporter": "python",
   "pygments_lexer": "ipython3",
   "version": "3.6.8"
  }
 },
 "nbformat": 4,
 "nbformat_minor": 2
}
