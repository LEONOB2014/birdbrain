{
 "cells": [
  {
   "cell_type": "markdown",
   "metadata": {},
   "source": [
    "## Birdsong brain data imaging package (birdbrain)\n",
    "- by Tim Sainburg & Marvin Thielk"
   ]
  },
  {
   "cell_type": "markdown",
   "metadata": {},
   "source": [
    "### Instructions\n",
    "- Everything here runs on Jupyter notebooks. You can view them online and interactively using [Binder](https://mybinder.org/v2/gh/timsainb/birdbrain/master?filepath=Index.ipynb), or locally using `pip install birdbrain`, and downloading the [GitHub repository](https://github.com/timsainb/birdbrain)\n",
    "- This is the index page, where by running the cells below, you will find all of the example notebooks for plotting brain data. \n",
    "- Most of the examples were produced for the European starling dataset but should work for the canary, bat, pigeon, and finch datasets as well. I reccomend taking a look through the starling dataset to see if there's anything you want to try in the other species. \n",
    "- If anything is not working properly - raise an issue on the [GitHub page](https://github.com/timsainb/birdbrain). "
   ]
  },
  {
   "cell_type": "code",
   "execution_count": 27,
   "metadata": {
    "ExecuteTime": {
     "end_time": "2019-02-27T02:21:42.286602Z",
     "start_time": "2019-02-27T02:21:42.275566Z"
    }
   },
   "outputs": [
    {
     "data": {
      "text/markdown": [
       "### European starling\n",
       "-  <a href='notebooks/starling/0.1-find_y_sinus.ipynb' target='_blank'>/starling/0.1-find y sinus</a>\n",
       "-  <a href='notebooks/starling/1.0-starling-brain-atlas-transections.ipynb' target='_blank'>/starling/1.0-starling-brain-atlas-transections</a>\n",
       "-  <a href='notebooks/starling/2.0-starling-brain-atlas-view-nuclei.ipynb' target='_blank'>/starling/2.0-starling-brain-atlas-view-nuclei</a>\n",
       "-  <a href='notebooks/starling/3.0-starling-3d-plot-brain.ipynb' target='_blank'>/starling/3.0-starling-3d-plot-brain</a>\n",
       "-  <a href='notebooks/starling/4.0-starling-brain-estimate-size.ipynb' target='_blank'>/starling/4.0-starling-brain-estimate-size</a>\n",
       "-  <a href='notebooks/starling/5.0-starling-brain-generate-stl.ipynb' target='_blank'>/starling/5.0-starling-brain-generate-stl</a>\n",
       "-  <a href='notebooks/starling/6.0-starling-plot-skull-and-brain-midsection.ipynb' target='_blank'>/starling/6.0-starling-plot-skull-and-brain-midsection</a>\n",
       "### Canary\n",
       "-  <a href='notebooks/canary/0.1-canary-find-y-sinus.ipynb' target='_blank'>/canary/0.1-canary-find-y-sinus</a>\n",
       "-  <a href='notebooks/canary/1.0-canary-brain-atlas-view-nuclei.ipynb' target='_blank'>/canary/1.0-canary-brain-atlas-view-nuclei</a>\n",
       "-  <a href='notebooks/canary/2.0-canary-3d-plot-brain.ipynb' target='_blank'>/canary/2.0-canary-3d-plot-brain</a>\n",
       "### Mustached bat\n",
       "-  <a href='notebooks/mustached_bat/0.1-mustached-bat-find-y-sinus.ipynb' target='_blank'>/mustached bat/0.1-mustached-bat-find-y-sinus</a>\n",
       "-  <a href='notebooks/mustached_bat/1.0-mustached_bat-brain-atlas-view-nuclei.ipynb' target='_blank'>/mustached bat/1.0-mustached bat-brain-atlas-view-nuclei</a>\n",
       "-  <a href='notebooks/mustached_bat/2.0-mustached_bat-3d-plot-brain.ipynb' target='_blank'>/mustached bat/2.0-mustached bat-3d-plot-brain</a>\n",
       "### Pigeon\n",
       "-  <a href='notebooks/pigeon/0.1-pigeon-find-y-sinus.ipynb' target='_blank'>/pigeon/0.1-pigeon-find-y-sinus</a>\n",
       "-  <a href='notebooks/pigeon/1.0-pigeon-brain-atlas-view-nuclei.ipynb' target='_blank'>/pigeon/1.0-pigeon-brain-atlas-view-nuclei</a>\n",
       "-  <a href='notebooks/pigeon/2.0-pigeon-3d-plot-brain.ipynb' target='_blank'>/pigeon/2.0-pigeon-3d-plot-brain</a>\n",
       "### Zebra finch\n",
       "-  <a href='notebooks/zebra_finch/0.1-zebra_finch-find-y-sinus.ipynb' target='_blank'>/zebra finch/0.1-zebra finch-find-y-sinus</a>\n",
       "-  <a href='notebooks/zebra_finch/1.0-zebra_finch-brain-atlas-view-nuclei.ipynb' target='_blank'>/zebra finch/1.0-zebra finch-brain-atlas-view-nuclei</a>\n",
       "-  <a href='notebooks/zebra_finch/2.0-zebra_finch-3d-plot-brain.ipynb' target='_blank'>/zebra finch/2.0-zebra finch-3d-plot-brain</a>"
      ],
      "text/plain": [
       "<IPython.core.display.Markdown object>"
      ]
     },
     "execution_count": 27,
     "metadata": {},
     "output_type": "execute_result"
    }
   ],
   "source": [
    "from IPython.display import Markdown\n",
    "from glob import glob\n",
    "\n",
    "Markdown(\n",
    "    \"\\n\".join(\n",
    "        [\n",
    "            '\\n'.join(['### ' + species] + [\n",
    "                \"-  <a href='{1}' target='_blank'>{0}</a>\".format(\n",
    "                    x[9:-6].replace(\"_\", \" \"), x)\n",
    "                for x in sorted(glob(\"notebooks/\"+loc+\"/*.ipynb\"))\n",
    "            ]) for species, loc in [['European starling', 'starling'], \n",
    "                                    ['Canary', 'canary'],\n",
    "                                   ['Mustached bat', 'mustached_bat'],\n",
    "                                   ['Pigeon', 'pigeon'],\n",
    "                                   ['Zebra finch', 'zebra_finch']]\n",
    "        ]\n",
    "    )\n",
    ")"
   ]
  },
  {
   "cell_type": "code",
   "execution_count": null,
   "metadata": {},
   "outputs": [],
   "source": []
  }
 ],
 "metadata": {
  "kernelspec": {
   "display_name": "Python 3",
   "language": "python",
   "name": "python3"
  },
  "language_info": {
   "codemirror_mode": {
    "name": "ipython",
    "version": 3
   },
   "file_extension": ".py",
   "mimetype": "text/x-python",
   "name": "python",
   "nbconvert_exporter": "python",
   "pygments_lexer": "ipython3",
   "version": "3.6.8"
  }
 },
 "nbformat": 4,
 "nbformat_minor": 2
}
